{
  "cells": [
    {
      "cell_type": "markdown",
      "metadata": {
        "id": "zmzECeN6DD6O"
      },
      "source": [
        "# Voice Control with PSoC 6"
      ]
    },
    {
      "cell_type": "code",
      "execution_count": null,
      "metadata": {
        "id": "QfkaB9P9DD6U"
      },
      "outputs": [],
      "source": [
        "# Note:\n",
        "# This notebook is derived from TensorFlow's simple_audio tutorial and modified accordingly for Voice Control with PSoC 6.\n",
        "# https://www.tensorflow.org/tutorials/audio/simple_audio"
      ]
    },
    {
      "cell_type": "markdown",
      "metadata": {
        "id": "c5eFfMZVDD6X"
      },
      "source": [
        "###### Copyright 2020 The TensorFlow Authors."
      ]
    },
    {
      "cell_type": "code",
      "execution_count": null,
      "metadata": {
        "execution": {
          "iopub.execute_input": "2022-01-26T08:04:40.934430Z",
          "iopub.status.busy": "2022-01-26T08:04:40.933552Z",
          "iopub.status.idle": "2022-01-26T08:04:40.936113Z",
          "shell.execute_reply": "2022-01-26T08:04:40.936549Z"
        },
        "id": "AJs7HHFmg1M9"
      },
      "outputs": [],
      "source": [
        "# @title Licensed under the Apache License, Version 2.0 (the \"License\");\n",
        "# you may not use this file except in compliance with the License.\n",
        "# You may obtain a copy of the License at\n",
        "#\n",
        "# https://www.apache.org/licenses/LICENSE-2.0\n",
        "#\n",
        "# Unless required by applicable law or agreed to in writing, software\n",
        "# distributed under the License is distributed on an \"AS IS\" BASIS,\n",
        "# WITHOUT WARRANTIES OR CONDITIONS OF ANY KIND, either express or implied.\n",
        "# See the License for the specific language governing permissions and\n",
        "# limitations under the License."
      ]
    },
    {
      "cell_type": "code",
      "execution_count": null,
      "metadata": {
        "colab": {
          "base_uri": "https://localhost:8080/"
        },
        "id": "kgiK9gygDOz0",
        "outputId": "4393ed83-df2b-4bfa-d791-3df377f45793"
      },
      "outputs": [
        {
          "name": "stdout",
          "output_type": "stream",
          "text": [
            "Mounted at /content/drive\n"
          ]
        }
      ],
      "source": [
        "from google.colab import drive\n",
        "drive.mount('/content/drive')"
      ]
    },
    {
      "cell_type": "code",
      "execution_count": null,
      "metadata": {
        "id": "0LDrT3YXucWG"
      },
      "outputs": [],
      "source": [
        "# Set this to True to install requirements\n",
        "INSTALL_REQ = True\n",
        "\n",
        "# Set this to True to download dataset\n",
        "DOWNLOAD_DATASET = True\n",
        "\n",
        "# Set this to True to unzip dataset\n",
        "UNZIP_DATASET = True\n",
        "\n",
        "# Dataset download link\n",
        "DATASET_LINK = \"https://drive.google.com/uc?id=1ZdbFST-oRXiVY1yzjV1ZxLNLIDGICsFS\"\n",
        "\n",
        "# Path to your mounted google drive\n",
        "GDRIVE_LOC = \"/content/drive/MyDrive\"\n",
        "\n",
        "# Working directory in google drive\n",
        "WORKING_LOC = \"/iHack_UR\"\n",
        "\n",
        "# Full working path\n",
        "FULL_WORKING_LOC = GDRIVE_LOC + WORKING_LOC\n",
        "\n",
        "# Path to extract dataset\n",
        "DATASET_PATH = FULL_WORKING_LOC + \"/dataset_ihack\""
      ]
    },
    {
      "cell_type": "code",
      "execution_count": null,
      "metadata": {
        "colab": {
          "base_uri": "https://localhost:8080/"
        },
        "id": "W9E-huTvJ8gt",
        "outputId": "e2b8f6bf-7740-4624-fd74-d5f62b892e00"
      },
      "outputs": [
        {
          "name": "stdout",
          "output_type": "stream",
          "text": [
            "Looking in indexes: https://pypi.org/simple, https://us-python.pkg.dev/colab-wheels/public/simple/\n",
            "Collecting CMSISDSP\n",
            "  Cloning https://github.com/ARM-software/CMSIS_5.git (to revision 5.9.0) to /tmp/pip-install-fcgvzmah/cmsisdsp_97e14d15d19a45e895ebd64416fdba5c\n",
            "  Running command git clone -q https://github.com/ARM-software/CMSIS_5.git /tmp/pip-install-fcgvzmah/cmsisdsp_97e14d15d19a45e895ebd64416fdba5c\n",
            "  Running command git checkout -q 61e36449f53c25ef7825c40f7dd93685736f457f\n",
            "  Installing build dependencies ... \u001b[?25l\u001b[?25hdone\n",
            "  Getting requirements to build wheel ... \u001b[?25l\u001b[?25hdone\n",
            "    Preparing wheel metadata ... \u001b[?25l\u001b[?25hdone\n",
            "Requirement already satisfied: jinja2<3.0,>=2.0 in /usr/local/lib/python3.7/dist-packages (from CMSISDSP) (2.11.3)\n",
            "Requirement already satisfied: numpy>=1.19 in /usr/local/lib/python3.7/dist-packages (from CMSISDSP) (1.21.6)\n",
            "Requirement already satisfied: markupsafe<2.1 in /usr/local/lib/python3.7/dist-packages (from CMSISDSP) (2.0.1)\n",
            "Requirement already satisfied: networkx>=2.5 in /usr/local/lib/python3.7/dist-packages (from CMSISDSP) (2.6.3)\n",
            "Requirement already satisfied: sympy>=1.6 in /usr/local/lib/python3.7/dist-packages (from CMSISDSP) (1.7.1)\n",
            "Requirement already satisfied: mpmath>=0.19 in /usr/local/lib/python3.7/dist-packages (from sympy>=1.6->CMSISDSP) (1.2.1)\n",
            "Building wheels for collected packages: CMSISDSP\n",
            "  Building wheel for CMSISDSP (PEP 517) ... \u001b[?25l\u001b[?25hdone\n",
            "  Created wheel for CMSISDSP: filename=cmsisdsp-1.4.0-cp37-cp37m-linux_x86_64.whl size=2795180 sha256=ecc75abeeaad77c08e558bfa429c56c0860cfad7722651b298e6727f51fb1da2\n",
            "  Stored in directory: /tmp/pip-ephem-wheel-cache-_n4x1mop/wheels/63/b1/47/10eb484c9028d6ba75217a5cd71ccfed582a406a9a38751ef9\n",
            "Successfully built CMSISDSP\n",
            "Installing collected packages: CMSISDSP\n",
            "Successfully installed CMSISDSP-1.4.0\n",
            "Reading package lists... Done\n",
            "Building dependency tree       \n",
            "Reading state information... Done\n",
            "The following package was automatically installed and is no longer required:\n",
            "  libnvidia-common-460\n",
            "Use 'sudo apt autoremove' to remove it.\n",
            "The following NEW packages will be installed:\n",
            "  libportaudio2\n",
            "0 upgraded, 1 newly installed, 0 to remove and 20 not upgraded.\n",
            "Need to get 64.6 kB of archives.\n",
            "After this operation, 215 kB of additional disk space will be used.\n",
            "Get:1 http://archive.ubuntu.com/ubuntu bionic/universe amd64 libportaudio2 amd64 19.6.0-1 [64.6 kB]\n",
            "Fetched 64.6 kB in 0s (444 kB/s)\n",
            "debconf: unable to initialize frontend: Dialog\n",
            "debconf: (No usable dialog-like program is installed, so the dialog based frontend cannot be used. at /usr/share/perl5/Debconf/FrontEnd/Dialog.pm line 76, <> line 1.)\n",
            "debconf: falling back to frontend: Readline\n",
            "debconf: unable to initialize frontend: Readline\n",
            "debconf: (This frontend requires a controlling tty.)\n",
            "debconf: falling back to frontend: Teletype\n",
            "dpkg-preconfigure: unable to re-open stdin: \n",
            "Selecting previously unselected package libportaudio2:amd64.\n",
            "(Reading database ... 155569 files and directories currently installed.)\n",
            "Preparing to unpack .../libportaudio2_19.6.0-1_amd64.deb ...\n",
            "Unpacking libportaudio2:amd64 (19.6.0-1) ...\n",
            "Setting up libportaudio2:amd64 (19.6.0-1) ...\n",
            "Processing triggers for libc-bin (2.27-3ubuntu1.5) ...\n",
            "Looking in indexes: https://pypi.org/simple, https://us-python.pkg.dev/colab-wheels/public/simple/\n",
            "Collecting audiomentations\n",
            "  Downloading audiomentations-0.27.0-py3-none-any.whl (64 kB)\n",
            "\u001b[K     |████████████████████████████████| 64 kB 1.8 MB/s \n",
            "\u001b[?25hRequirement already satisfied: numpy>=1.13.0 in /usr/local/lib/python3.7/dist-packages (from audiomentations) (1.21.6)\n",
            "Requirement already satisfied: scipy<2,>=1.0.0 in /usr/local/lib/python3.7/dist-packages (from audiomentations) (1.7.3)\n",
            "Requirement already satisfied: librosa<0.10.0,>0.7.2 in /usr/local/lib/python3.7/dist-packages (from audiomentations) (0.8.1)\n",
            "Requirement already satisfied: joblib>=0.14 in /usr/local/lib/python3.7/dist-packages (from librosa<0.10.0,>0.7.2->audiomentations) (1.1.0)\n",
            "Requirement already satisfied: decorator>=3.0.0 in /usr/local/lib/python3.7/dist-packages (from librosa<0.10.0,>0.7.2->audiomentations) (4.4.2)\n",
            "Requirement already satisfied: soundfile>=0.10.2 in /usr/local/lib/python3.7/dist-packages (from librosa<0.10.0,>0.7.2->audiomentations) (0.10.3.post1)\n",
            "Requirement already satisfied: resampy>=0.2.2 in /usr/local/lib/python3.7/dist-packages (from librosa<0.10.0,>0.7.2->audiomentations) (0.4.0)\n",
            "Requirement already satisfied: packaging>=20.0 in /usr/local/lib/python3.7/dist-packages (from librosa<0.10.0,>0.7.2->audiomentations) (21.3)\n",
            "Requirement already satisfied: scikit-learn!=0.19.0,>=0.14.0 in /usr/local/lib/python3.7/dist-packages (from librosa<0.10.0,>0.7.2->audiomentations) (1.0.2)\n",
            "Requirement already satisfied: pooch>=1.0 in /usr/local/lib/python3.7/dist-packages (from librosa<0.10.0,>0.7.2->audiomentations) (1.6.0)\n",
            "Requirement already satisfied: audioread>=2.0.0 in /usr/local/lib/python3.7/dist-packages (from librosa<0.10.0,>0.7.2->audiomentations) (3.0.0)\n",
            "Requirement already satisfied: numba>=0.43.0 in /usr/local/lib/python3.7/dist-packages (from librosa<0.10.0,>0.7.2->audiomentations) (0.56.2)\n",
            "Requirement already satisfied: setuptools<60 in /usr/local/lib/python3.7/dist-packages (from numba>=0.43.0->librosa<0.10.0,>0.7.2->audiomentations) (57.4.0)\n",
            "Requirement already satisfied: importlib-metadata in /usr/local/lib/python3.7/dist-packages (from numba>=0.43.0->librosa<0.10.0,>0.7.2->audiomentations) (4.12.0)\n",
            "Requirement already satisfied: llvmlite<0.40,>=0.39.0dev0 in /usr/local/lib/python3.7/dist-packages (from numba>=0.43.0->librosa<0.10.0,>0.7.2->audiomentations) (0.39.1)\n",
            "Requirement already satisfied: pyparsing!=3.0.5,>=2.0.2 in /usr/local/lib/python3.7/dist-packages (from packaging>=20.0->librosa<0.10.0,>0.7.2->audiomentations) (3.0.9)\n",
            "Requirement already satisfied: appdirs>=1.3.0 in /usr/local/lib/python3.7/dist-packages (from pooch>=1.0->librosa<0.10.0,>0.7.2->audiomentations) (1.4.4)\n",
            "Requirement already satisfied: requests>=2.19.0 in /usr/local/lib/python3.7/dist-packages (from pooch>=1.0->librosa<0.10.0,>0.7.2->audiomentations) (2.23.0)\n",
            "Requirement already satisfied: certifi>=2017.4.17 in /usr/local/lib/python3.7/dist-packages (from requests>=2.19.0->pooch>=1.0->librosa<0.10.0,>0.7.2->audiomentations) (2022.6.15)\n",
            "Requirement already satisfied: urllib3!=1.25.0,!=1.25.1,<1.26,>=1.21.1 in /usr/local/lib/python3.7/dist-packages (from requests>=2.19.0->pooch>=1.0->librosa<0.10.0,>0.7.2->audiomentations) (1.24.3)\n",
            "Requirement already satisfied: chardet<4,>=3.0.2 in /usr/local/lib/python3.7/dist-packages (from requests>=2.19.0->pooch>=1.0->librosa<0.10.0,>0.7.2->audiomentations) (3.0.4)\n",
            "Requirement already satisfied: idna<3,>=2.5 in /usr/local/lib/python3.7/dist-packages (from requests>=2.19.0->pooch>=1.0->librosa<0.10.0,>0.7.2->audiomentations) (2.10)\n",
            "Requirement already satisfied: threadpoolctl>=2.0.0 in /usr/local/lib/python3.7/dist-packages (from scikit-learn!=0.19.0,>=0.14.0->librosa<0.10.0,>0.7.2->audiomentations) (3.1.0)\n",
            "Requirement already satisfied: cffi>=1.0 in /usr/local/lib/python3.7/dist-packages (from soundfile>=0.10.2->librosa<0.10.0,>0.7.2->audiomentations) (1.15.1)\n",
            "Requirement already satisfied: pycparser in /usr/local/lib/python3.7/dist-packages (from cffi>=1.0->soundfile>=0.10.2->librosa<0.10.0,>0.7.2->audiomentations) (2.21)\n",
            "Requirement already satisfied: zipp>=0.5 in /usr/local/lib/python3.7/dist-packages (from importlib-metadata->numba>=0.43.0->librosa<0.10.0,>0.7.2->audiomentations) (3.8.1)\n",
            "Requirement already satisfied: typing-extensions>=3.6.4 in /usr/local/lib/python3.7/dist-packages (from importlib-metadata->numba>=0.43.0->librosa<0.10.0,>0.7.2->audiomentations) (4.1.1)\n",
            "Installing collected packages: audiomentations\n",
            "Successfully installed audiomentations-0.27.0\n",
            "Looking in indexes: https://pypi.org/simple, https://us-python.pkg.dev/colab-wheels/public/simple/\n",
            "Collecting sounddevice\n",
            "  Downloading sounddevice-0.4.5-py3-none-any.whl (31 kB)\n",
            "Requirement already satisfied: CFFI>=1.0 in /usr/local/lib/python3.7/dist-packages (from sounddevice) (1.15.1)\n",
            "Requirement already satisfied: pycparser in /usr/local/lib/python3.7/dist-packages (from CFFI>=1.0->sounddevice) (2.21)\n",
            "Installing collected packages: sounddevice\n",
            "Successfully installed sounddevice-0.4.5\n",
            "Looking in indexes: https://pypi.org/simple, https://us-python.pkg.dev/colab-wheels/public/simple/\n",
            "Collecting python_speech_features\n",
            "  Downloading python_speech_features-0.6.tar.gz (5.6 kB)\n",
            "Building wheels for collected packages: python-speech-features\n",
            "  Building wheel for python-speech-features (setup.py) ... \u001b[?25l\u001b[?25hdone\n",
            "  Created wheel for python-speech-features: filename=python_speech_features-0.6-py3-none-any.whl size=5888 sha256=c63f75f3ab447b9843cea0b1149b5ab363e82993057405473fae3c6486571429\n",
            "  Stored in directory: /root/.cache/pip/wheels/b0/0e/94/28cd6afa3cd5998a63eef99fe31777acd7d758f59cf24839eb\n",
            "Successfully built python-speech-features\n",
            "Installing collected packages: python-speech-features\n",
            "Successfully installed python-speech-features-0.6\n",
            "Looking in indexes: https://pypi.org/simple, https://us-python.pkg.dev/colab-wheels/public/simple/\n",
            "Requirement already satisfied: gdown in /usr/local/lib/python3.7/dist-packages (4.4.0)\n",
            "Requirement already satisfied: filelock in /usr/local/lib/python3.7/dist-packages (from gdown) (3.8.0)\n",
            "Requirement already satisfied: requests[socks] in /usr/local/lib/python3.7/dist-packages (from gdown) (2.23.0)\n",
            "Requirement already satisfied: six in /usr/local/lib/python3.7/dist-packages (from gdown) (1.15.0)\n",
            "Requirement already satisfied: tqdm in /usr/local/lib/python3.7/dist-packages (from gdown) (4.64.1)\n",
            "Requirement already satisfied: beautifulsoup4 in /usr/local/lib/python3.7/dist-packages (from gdown) (4.6.3)\n",
            "Requirement already satisfied: idna<3,>=2.5 in /usr/local/lib/python3.7/dist-packages (from requests[socks]->gdown) (2.10)\n",
            "Requirement already satisfied: certifi>=2017.4.17 in /usr/local/lib/python3.7/dist-packages (from requests[socks]->gdown) (2022.6.15)\n",
            "Requirement already satisfied: chardet<4,>=3.0.2 in /usr/local/lib/python3.7/dist-packages (from requests[socks]->gdown) (3.0.4)\n",
            "Requirement already satisfied: urllib3!=1.25.0,!=1.25.1,<1.26,>=1.21.1 in /usr/local/lib/python3.7/dist-packages (from requests[socks]->gdown) (1.24.3)\n",
            "Requirement already satisfied: PySocks!=1.5.7,>=1.5.6 in /usr/local/lib/python3.7/dist-packages (from requests[socks]->gdown) (1.7.1)\n"
          ]
        }
      ],
      "source": [
        "if INSTALL_REQ:\n",
        "  !pip install git+https://github.com/ARM-software/CMSIS_5.git@5.9.0#egg=CMSISDSP\\&subdirectory=CMSIS/DSP/\n",
        "  !sudo apt-get install libportaudio2\n",
        "  !pip install audiomentations\n",
        "  !pip install sounddevice\n",
        "  !pip install python_speech_features\n",
        "  !pip install gdown"
      ]
    },
    {
      "cell_type": "code",
      "execution_count": null,
      "metadata": {
        "colab": {
          "base_uri": "https://localhost:8080/"
        },
        "id": "TCDPvkZHYx9e",
        "outputId": "088e8e58-2425-4ec8-8cd0-52d6496aeca4"
      },
      "outputs": [
        {
          "name": "stderr",
          "output_type": "stream",
          "text": [
            "Downloading...\n",
            "From: https://drive.google.com/uc?id=1ZdbFST-oRXiVY1yzjV1ZxLNLIDGICsFS\n",
            "To: /content/drive/MyDrive/iHack_UR/dataset.zip\n",
            "100%|██████████| 202M/202M [00:01<00:00, 102MB/s]\n"
          ]
        }
      ],
      "source": [
        "if DOWNLOAD_DATASET:\n",
        "  !rm -rf /content/drive/MyDrive/iHack_UR\n",
        "\n",
        "  import os\n",
        "  import gdown\n",
        "\n",
        "  os.mkdir(FULL_WORKING_LOC)\n",
        "\n",
        "  # a file\n",
        "  url = DATASET_LINK\n",
        "  output = FULL_WORKING_LOC + \"/dataset.zip\"\n",
        "  gdown.download(url, output, quiet=False)"
      ]
    },
    {
      "cell_type": "code",
      "execution_count": null,
      "metadata": {
        "id": "6mJ1IupALMUI"
      },
      "outputs": [],
      "source": [
        "if UNZIP_DATASET:\n",
        "  import zipfile\n",
        "  with zipfile.ZipFile(FULL_WORKING_LOC + \"/dataset.zip\", 'r') as zip_ref:\n",
        "    zip_ref.extractall(DATASET_PATH)"
      ]
    },
    {
      "cell_type": "markdown",
      "metadata": {
        "id": "koEUG8eoDD6Z"
      },
      "source": [
        "### Import Python Packages"
      ]
    },
    {
      "cell_type": "code",
      "execution_count": null,
      "metadata": {
        "execution": {
          "iopub.execute_input": "2022-01-26T08:04:40.945813Z",
          "iopub.status.busy": "2022-01-26T08:04:40.945133Z",
          "iopub.status.idle": "2022-01-26T08:04:44.130549Z",
          "shell.execute_reply": "2022-01-26T08:04:44.129979Z"
        },
        "id": "dzLKpmZICaWN"
      },
      "outputs": [],
      "source": [
        "# Import required packages\n",
        "\n",
        "import os\n",
        "import pathlib\n",
        "from IPython import display\n",
        "\n",
        "import cmsisdsp\n",
        "from cmsisdsp.datatype import F32\n",
        "import cmsisdsp.fixedpoint as f\n",
        "import cmsisdsp.mfcc as cmsismfcc\n",
        "\n",
        "import tensorflow as tf\n",
        "from tensorflow.keras import layers\n",
        "from tensorflow.keras import models\n",
        "import tensorflow_datasets as tfds\n",
        "import tensorflow_hub as hub\n",
        "\n",
        "import numpy as np\n",
        "from numpy import pi as PI\n",
        "\n",
        "import scipy.signal as sig\n",
        "from scipy.io.wavfile import write\n",
        "\n",
        "import seaborn as sns\n",
        "\n",
        "import matplotlib.pyplot as plt\n",
        "\n",
        "import pandas as pd\n",
        "\n",
        "from audiomentations import SpecCompose, SpecFrequencyMask\n",
        "from audiomentations import Compose, AddGaussianNoise, TimeStretch, PitchShift, Shift,AddBackgroundNoise,AddShortNoises\n",
        "import sounddevice as sd\n",
        "import python_speech_features\n",
        "from tensorflow.python.ops import gen_audio_ops as audio_ops\n",
        "\n",
        "# Set the seed value for experiment reproducibility.\n",
        "seed = 42\n",
        "tf.random.set_seed(seed)\n",
        "np.random.seed(seed)"
      ]
    },
    {
      "cell_type": "code",
      "execution_count": null,
      "metadata": {
        "colab": {
          "base_uri": "https://localhost:8080/",
          "height": 36
        },
        "id": "Ixlc4affDD6c",
        "outputId": "2fce85a2-dc22-41e3-ed5e-30832c809ae8"
      },
      "outputs": [
        {
          "data": {
            "application/vnd.google.colaboratory.intrinsic+json": {
              "type": "string"
            },
            "text/plain": [
              "'2.8.2'"
            ]
          },
          "execution_count": 9,
          "metadata": {},
          "output_type": "execute_result"
        }
      ],
      "source": [
        "tf.__version__"
      ]
    },
    {
      "cell_type": "markdown",
      "metadata": {
        "id": "9ClYAeF0DD6d"
      },
      "source": [
        "## Import the dataset"
      ]
    },
    {
      "cell_type": "code",
      "execution_count": null,
      "metadata": {
        "id": "dc0r_V6pDD6e"
      },
      "outputs": [],
      "source": [
        "data_dir = pathlib.Path(DATASET_PATH)"
      ]
    },
    {
      "cell_type": "code",
      "execution_count": null,
      "metadata": {
        "colab": {
          "base_uri": "https://localhost:8080/"
        },
        "execution": {
          "iopub.execute_input": "2022-01-26T08:04:49.312621Z",
          "iopub.status.busy": "2022-01-26T08:04:49.311989Z",
          "iopub.status.idle": "2022-01-26T08:04:49.314667Z",
          "shell.execute_reply": "2022-01-26T08:04:49.315026Z"
        },
        "id": "70IBxSKxA1N9",
        "outputId": "51f5844e-93f5-4d61-e353-3d6c868feb64"
      },
      "outputs": [
        {
          "name": "stdout",
          "output_type": "stream",
          "text": [
            "Commands: ['off' 'on' 'silence']\n"
          ]
        }
      ],
      "source": [
        "commands = np.array(tf.io.gfile.listdir(str(data_dir)))\n",
        "commands = commands[commands != 'README.md']\n",
        "commands = commands[commands != 'LICENSE']\n",
        "print('Commands:', commands)"
      ]
    },
    {
      "cell_type": "code",
      "execution_count": null,
      "metadata": {
        "colab": {
          "base_uri": "https://localhost:8080/"
        },
        "execution": {
          "iopub.execute_input": "2022-01-26T08:04:49.320460Z",
          "iopub.status.busy": "2022-01-26T08:04:49.319695Z",
          "iopub.status.idle": "2022-01-26T08:04:51.053400Z",
          "shell.execute_reply": "2022-01-26T08:04:51.052878Z"
        },
        "id": "hlX685l1wD9k",
        "outputId": "8ae11104-a392-4002-cb68-a2d5a1680ccd"
      },
      "outputs": [
        {
          "name": "stdout",
          "output_type": "stream",
          "text": [
            "Number of total examples: 9590\n",
            "Number of examples per label: 3745\n",
            "Number of examples per label: 3845\n",
            "Number of examples per label: 2000\n",
            "Example file tensor: tf.Tensor(b'/content/drive/MyDrive/iHack_UR/dataset_ihack/off/3a3ee7ed_nohash_4.wav', shape=(), dtype=string)\n"
          ]
        }
      ],
      "source": [
        "filenames = tf.io.gfile.glob(str(data_dir) + '/*/*')\n",
        "filenames = tf.random.shuffle(filenames)\n",
        "num_samples = len(filenames)\n",
        "print('Number of total examples:', num_samples)\n",
        "[print('Number of examples per label:',\n",
        "      len(tf.io.gfile.listdir(str(data_dir/commands[itr])))) for itr in range(len(commands))]\n",
        "print('Example file tensor:', filenames[0])"
      ]
    },
    {
      "cell_type": "markdown",
      "metadata": {
        "id": "9vK3ymy23MCP"
      },
      "source": [
        "Split `filenames` into training, validation and test sets using a 80:10:10 ratio, respectively:"
      ]
    },
    {
      "cell_type": "code",
      "execution_count": null,
      "metadata": {
        "colab": {
          "base_uri": "https://localhost:8080/"
        },
        "id": "1DiAs9mZDD6i",
        "outputId": "bd096275-7ece-4417-b4ff-7951f3045b8c"
      },
      "outputs": [
        {
          "name": "stdout",
          "output_type": "stream",
          "text": [
            "train set 7673\n",
            "test set 959\n",
            "Total set, num samples 9591 9590\n"
          ]
        }
      ],
      "source": [
        "trainset_80p=num_samples*(80/100)\n",
        "if (trainset_80p%10 != 0):\n",
        "    trainset_80p=int(trainset_80p)+1\n",
        "else:\n",
        "    trainset_80p=int(trainset_80p)\n",
        "testset_10p=int(num_samples*(10/100))\n",
        "print(\"train set\",trainset_80p)\n",
        "print(\"test set\",testset_10p)\n",
        "total_set=trainset_80p+testset_10p*2\n",
        "print(\"Total set, num samples\",total_set,num_samples)"
      ]
    },
    {
      "cell_type": "code",
      "execution_count": null,
      "metadata": {
        "colab": {
          "base_uri": "https://localhost:8080/"
        },
        "id": "0B8M3-2iDD6i",
        "outputId": "2d21d2d2-8dac-4275-8c8d-2d4bd5dc31f2"
      },
      "outputs": [
        {
          "name": "stdout",
          "output_type": "stream",
          "text": [
            "Training set size 7673\n",
            "Validation set size 959\n",
            "Test set size 959\n"
          ]
        }
      ],
      "source": [
        "train_files = filenames[:trainset_80p]\n",
        "val_files = filenames[trainset_80p: trainset_80p + testset_10p]\n",
        "test_files = filenames[-testset_10p:]\n",
        "\n",
        "print('Training set size', len(train_files))\n",
        "print('Validation set size', len(val_files))\n",
        "print('Test set size', len(test_files))"
      ]
    },
    {
      "cell_type": "markdown",
      "metadata": {
        "id": "g2Cj9FyvfweD"
      },
      "source": [
        "## Read the audio files and their labels"
      ]
    },
    {
      "cell_type": "code",
      "execution_count": null,
      "metadata": {
        "execution": {
          "iopub.execute_input": "2022-01-26T08:04:51.076854Z",
          "iopub.status.busy": "2022-01-26T08:04:51.076218Z",
          "iopub.status.idle": "2022-01-26T08:04:51.077976Z",
          "shell.execute_reply": "2022-01-26T08:04:51.078334Z"
        },
        "id": "9PjJ2iXYwftD"
      },
      "outputs": [],
      "source": [
        "def decode_audio(audio_binary):\n",
        "    audio, sampling_rate = tf.audio.decode_wav(contents=audio_binary)  # Decode a 16-bit PCM WAV file to a float tensor.\n",
        "    print(audio.shape)\n",
        "    return tf.squeeze(audio, axis=-1)"
      ]
    },
    {
      "cell_type": "code",
      "execution_count": null,
      "metadata": {
        "execution": {
          "iopub.execute_input": "2022-01-26T08:04:51.082722Z",
          "iopub.status.busy": "2022-01-26T08:04:51.082140Z",
          "iopub.status.idle": "2022-01-26T08:04:51.083771Z",
          "shell.execute_reply": "2022-01-26T08:04:51.084169Z"
        },
        "id": "8VTtX1nr3YT-"
      },
      "outputs": [],
      "source": [
        "def get_label(file_path):\n",
        "    parts = tf.strings.split(\n",
        "      input=file_path,\n",
        "      sep=os.path.sep)\n",
        "    return parts[-2]"
      ]
    },
    {
      "cell_type": "code",
      "execution_count": null,
      "metadata": {
        "execution": {
          "iopub.execute_input": "2022-01-26T08:04:51.088167Z",
          "iopub.status.busy": "2022-01-26T08:04:51.087551Z",
          "iopub.status.idle": "2022-01-26T08:04:51.090110Z",
          "shell.execute_reply": "2022-01-26T08:04:51.089641Z"
        },
        "id": "WdgUD5T93NyT"
      },
      "outputs": [],
      "source": [
        "def get_waveform_and_label(file_path):\n",
        "    label = get_label(file_path)\n",
        "    print(\"file path\",file_path)\n",
        "    audio_binary = tf.io.read_file(file_path)\n",
        "    waveform = decode_audio(audio_binary)\n",
        "    print(label.shape, waveform.shape)\n",
        "    return waveform, label"
      ]
    },
    {
      "cell_type": "markdown",
      "metadata": {
        "id": "rgE3jLS0DD6l"
      },
      "source": [
        "## Create a Training TensorFlow Dataset"
      ]
    },
    {
      "cell_type": "code",
      "execution_count": null,
      "metadata": {
        "colab": {
          "base_uri": "https://localhost:8080/"
        },
        "execution": {
          "iopub.execute_input": "2022-01-26T08:04:51.097251Z",
          "iopub.status.busy": "2022-01-26T08:04:51.096180Z",
          "iopub.status.idle": "2022-01-26T08:04:51.230089Z",
          "shell.execute_reply": "2022-01-26T08:04:51.230527Z"
        },
        "id": "0SQl8yXl3kNP",
        "outputId": "d806bf4d-dd80-40c4-9181-3c232d6aa631"
      },
      "outputs": [
        {
          "name": "stdout",
          "output_type": "stream",
          "text": [
            "file path Tensor(\"args_0:0\", shape=(), dtype=string)\n",
            "(None, None)\n",
            "() (None,)\n"
          ]
        }
      ],
      "source": [
        "AUTOTUNE = tf.data.AUTOTUNE\n",
        "files_ds = tf.data.Dataset.from_tensor_slices(train_files)\n",
        "waveform_ds = files_ds.map(\n",
        "    map_func=get_waveform_and_label, num_parallel_calls=AUTOTUNE)"
      ]
    },
    {
      "cell_type": "markdown",
      "metadata": {
        "id": "voxGEwvuh2L7"
      },
      "source": [
        "## Plot the Audio waveforms"
      ]
    },
    {
      "cell_type": "code",
      "execution_count": null,
      "metadata": {
        "colab": {
          "base_uri": "https://localhost:8080/",
          "height": 950
        },
        "execution": {
          "iopub.execute_input": "2022-01-26T08:04:51.357783Z",
          "iopub.status.busy": "2022-01-26T08:04:51.357061Z",
          "iopub.status.idle": "2022-01-26T08:04:52.086735Z",
          "shell.execute_reply": "2022-01-26T08:04:52.087151Z"
        },
        "id": "8yuX6Nqzf6wT",
        "outputId": "9dbd0f55-ab52-4bdf-e73f-5c6ffe9915ff"
      },
      "outputs": [
        {
          "data": {
            "image/png": "[encoded data removed]",
            "text/plain": [
              "<Figure size 2160x1440 with 9 Axes>"
            ]
          },
          "metadata": {
            "needs_background": "light"
          },
          "output_type": "display_data"
        }
      ],
      "source": [
        "rows = 3\n",
        "cols = 3\n",
        "n = rows * cols\n",
        "fig, axes = plt.subplots(rows, cols, figsize=(30, 20))\n",
        "\n",
        "for i, (audio, label) in enumerate(waveform_ds.take(n)):\n",
        "    r = i // cols\n",
        "    c = i % cols\n",
        "    ax = axes[r][c]\n",
        "    ax.plot(audio.numpy())\n",
        "    ax.set_yticks(np.arange(-1.2, 1.2, 0.2))\n",
        "    label = label.numpy().decode('utf-8')\n",
        "    ax.set_title(label)\n",
        "\n",
        "plt.show()"
      ]
    },
    {
      "cell_type": "markdown",
      "metadata": {
        "id": "EWXPphxm0B4m"
      },
      "source": [
        "## Augment and convert audio data to MFCC"
      ]
    },
    {
      "cell_type": "markdown",
      "metadata": {
        "id": "5rdPiPYJphs2"
      },
      "source": [
        "We will augment the data using augmentations package and convert it to MFCC using ARM CMSIS DSP API's."
      ]
    },
    {
      "cell_type": "markdown",
      "metadata": {
        "id": "YfdhjDNMDD6o"
      },
      "source": [
        "### Audio Augmentation"
      ]
    },
    {
      "cell_type": "code",
      "execution_count": null,
      "metadata": {
        "id": "Gk7Eo_nsDD6o"
      },
      "outputs": [],
      "source": [
        "DEMO_DIR = DATASET_PATH\n",
        "\n",
        "augment_waveform_pipeline = Compose([\n",
        "    AddGaussianNoise(min_amplitude=0.001, max_amplitude=0.05, p=0.5),\n",
        "    PitchShift(min_semitones=-4, max_semitones=4, p=0.5),\n",
        "    Shift(min_fraction=-0.5, max_fraction=0.5, p=0.5),\n",
        "])\n",
        "\n",
        "\n",
        "@tf.function\n",
        "def tf_augment_wave(waveform):\n",
        "    pipeline = tf.numpy_function(augment_waveform,[waveform],Tout=tf.float32)\n",
        "    return pipeline\n",
        "\n",
        "def augment_waveform(waveform):\n",
        "    print(\"augment waveform shape\",waveform.shape)\n",
        "    aug_waveform=augment_waveform_pipeline(samples=waveform,sample_rate=16000)\n",
        "    print(\"Augmented shape\",aug_waveform.shape)\n",
        "    return aug_waveform\n",
        "\n",
        "\n",
        "@tf.function\n",
        "def tf_augment_wave_to_mfcc(waveform,label):\n",
        "    label_id = tf.argmax(label == commands)\n",
        "    return tf.numpy_function(augment_waveform_to_mfcc,[waveform],Tout=tf.float32),label_id\n",
        "\n",
        "def augment_waveform_to_mfcc(waveform):\n",
        "    aug_waveform=augment_waveform_pipeline(samples=waveform,sample_rate=16000)\n",
        "    aug_mfcc=get_cmsis_mfcc_full(aug_waveform)\n",
        "    return aug_mfcc"
      ]
    },
    {
      "cell_type": "markdown",
      "metadata": {
        "id": "0rds6i-CDD6p"
      },
      "source": [
        "## Feature Extraction - MFCC (Mel-Frequency Cepstral Coefficients)"
      ]
    },
    {
      "cell_type": "code",
      "execution_count": null,
      "metadata": {
        "id": "YHSTQCfsDD6p"
      },
      "outputs": [],
      "source": [
        "# MFCC configuration parameters\n",
        "\n",
        "# Fixed parameters\n",
        "sampling_rate = 16000\n",
        "freq_min = 64\n",
        "freq_high = sampling_rate / 2 # Nyquist rate\n",
        "\n",
        "# Configurable parameters\n",
        "FFT_size = 820\n",
        "FFT_step_size = 1024\n",
        "num_dct_outputs = 5\n",
        "num_mel_filters = 40\n"
      ]
    },
    {
      "cell_type": "code",
      "execution_count": null,
      "metadata": {
        "id": "pFG5rSQKDD6p"
      },
      "outputs": [],
      "source": [
        "mfccf32 = cmsisdsp.arm_mfcc_instance_f32()\n",
        "window = sig.hamming(FFT_size, sym=False)\n",
        "filtLen,filtPos,packedFilters = cmsismfcc.melFilterMatrix(F32,freq_min, freq_high, num_mel_filters,sampling_rate,FFT_size)\n",
        "dctMatrixFilters = cmsismfcc.dctMatrix(F32,num_dct_outputs, num_mel_filters)    \n",
        "\n",
        "status = cmsisdsp.arm_mfcc_init_f32(mfccf32,FFT_size,num_mel_filters,num_dct_outputs,dctMatrixFilters,filtPos,filtLen,packedFilters,window)\n",
        "\n",
        "@tf.function\n",
        "def get_cmsis_mfcc_ds(waveform):\n",
        "    return tf.numpy_function(get_cmsis_mfcc_full,[waveform],Tout=tf.float32)\n",
        "\n",
        "\n",
        "def get_cmsis_mfcc_full(waveform):  \n",
        "    input_len = 16384\n",
        "    waveform = waveform[:input_len] \n",
        "    \n",
        "    zero_padding = tf.zeros(\n",
        "      [input_len] - tf.shape(waveform),\n",
        "      dtype=tf.float32)\n",
        "    \n",
        "    initial_zero_padding=tf.zeros(FFT_size - FFT_step_size, dtype=tf.float32)\n",
        "    waveform = tf.cast(waveform, dtype=tf.float32)\n",
        "    \n",
        "    # Concatenate the waveform with `zero_padding`, which ensures all audio clips are of the same length.\n",
        "    equal_length = tf.concat([initial_zero_padding, waveform, zero_padding], 0)\n",
        "      \n",
        "    mfcc_full=np.empty(shape=[0,num_dct_outputs],dtype=np.float32)\n",
        "    \n",
        "    equal_length=equal_length.numpy()\n",
        "\n",
        "    start_index=0 \n",
        "    while start_index<=(len(equal_length)-FFT_size):\n",
        "        tmp=np.zeros(FFT_size + 2)\n",
        "        mfcc_res=cmsisdsp.arm_mfcc_f32(mfccf32,equal_length[start_index:start_index+FFT_size],tmp)\n",
        "        mfcc_full=np.vstack([mfcc_full,mfcc_res])\n",
        "        start_index=start_index+FFT_step_size\n",
        "        \n",
        "    mfcc_full=mfcc_full[...,tf.newaxis]\n",
        "    mfcc_full=tf.image.per_image_standardization(mfcc_full)\n",
        "    return mfcc_full"
      ]
    },
    {
      "cell_type": "markdown",
      "metadata": {
        "id": "4M0ei_BTDD6q"
      },
      "source": [
        "## Playback Audio"
      ]
    },
    {
      "cell_type": "code",
      "execution_count": null,
      "metadata": {
        "colab": {
          "base_uri": "https://localhost:8080/",
          "height": 180
        },
        "execution": {
          "iopub.execute_input": "2022-01-26T08:04:52.101770Z",
          "iopub.status.busy": "2022-01-26T08:04:52.100842Z",
          "iopub.status.idle": "2022-01-26T08:04:52.415977Z",
          "shell.execute_reply": "2022-01-26T08:04:52.415446Z"
        },
        "id": "4Mu6Y7Yz3C-V",
        "outputId": "c1de1f7c-f6e8-45fb-aac7-2e805d9259f7",
        "scrolled": true
      },
      "outputs": [
        {
          "name": "stdout",
          "output_type": "stream",
          "text": [
            "wave\n",
            "16000\n",
            "Label: off\n",
            "Waveform shape: (16000,)\n",
            "MFCC shape (16, 5, 1)\n",
            "Audio playback\n"
          ]
        },
        {
          "data": {
            "text/html": [
              "\n",
              "                <audio  controls=\"controls\" >\n",
              "                    <source src=\"data:audio/wav;base64,UklGRiR9AABXQVZFZm10IBAAAAABAAEAgD4AAAB9AAACABAAZGF0YQB9AAAAAAAAAAAAAAAAAAAAAAAAAAAAAAAAAAAAAAAAAAAAAAAAAAAAAP///v8AAAAAAAAAAAAAAAAAAP7///8AAAAAAAAAAAAAAAAAAAAAAAAAAAAAAAAAAAAAAAAAAAAAAAAAAAAAAAAAAAAAAAAAAAAAAAAAAAAAAAABAAEAAQABAAAAAQABAAAAAAAAAAAAAAAAAAAAAAAAAAEAAQABAAEAAQAAAAAAAAAAAAAAAAAAAAAAAAAAAAAAAAAAAAAAAAAAAAAAAAAAAAAAAAAAAAAAAAAAAAAAAAAAAAAA///+//7///8AAAAAAQD///7//v8AAP///P///wAAAAAAAAAAAAAAAAAAAAAAAAEA/v///wAAAAAAAAAAAAAAAAAAAAAAAAAAAAAAAAAAAAAAAAAAAAAAAAAAAAAAAAAAAAAAAAAAAAAAAAAAAAAAAAAAAAAAAAAAAAABAAAAAAABAAEAAQABAAEAAQABAAEAAAAAAAAAAAAAAAAAAAAAAAAAAAAAAAAAAAAAAAAAAAAAAAAAAAAAAAAAAAAAAAAAAAAAAAAAAAAAAAAAAAAAAAAAAAAAAAAAAAAAAAAAAAAAAAAAAAAAAAAAAAAAAAAAAAAAAAAAAAAAAAAAAAAAAAAAAAAAAAAAAAAAAAAAAAAAAAAAAAAAAAAAAAAAAAAAAAAAAAAAAAAAAAAAAAAAAAAAAAAAAAAAAAAAAAAAAAAAAAAAAAAAAAAAAAAAAAAAAAAAAAAAAAAAAAAAAAAAAAAAAAAAAAAAAAAAAAAAAAAAAAAAAAAAAAAAAAAAAAAAAAAAAAAAAAAAAAAAAAAAAAAAAAAAAAAAAAAAAAAAAAAAAAAAAAAAAAAAAAAAAAAAAAAAAAAAAAAAAAAAAAAAAAAAAAAAAAAAAAAAAAAAAAAAAAAAAAAAAAAAAAAAAAAAAAAAAAAAAAAAAAAAAAAAAAAAAAAAAAAAAAAAAAAAAAAAAAAAAAAAAAAAAAAAAAAAAAAAAAAAAAAAAAAAAAAAAAAAAAAAAAAAAAAAAAAAAAAAAAAAAAAAAAAAAAAAAAAAAAAAAAAAAAAAAAAAAAAAAAAAAAAAAAAAAAAAAAAAAAAAAAAAAAAAAAAAAAAAAAAAAAAAAAAAAAAAAAAAAAAAAAAAAAAAAAAAAAAAAAAAAAAAAAAAAAAAAAAAAAAAAAAAAAAAAAAAAAAAAAAAAAAAAAAAAAAAAAAAAAAAAAAAAAAAAAAAAAAAAAAAAAAAAAAAAAAAAAAAAAAAAAAAAAAAAAAAAAAAAAAAAAAAAAAAAAAAAAAAAAAAAAAAAAAAAAAAAAAAAAAAAAAAAAAAAAAAAAAAAAAAAAAAAAAAAAAAAAAAAAAAAAAAAAAAAAAAAAAAAAAAAAAAAAAAAAAAAAAAAAAAAAAAAAAAAAAAAAAAAAAAAAAAAAAAAAAAAAAAAAAAAAAAAAAAAAAAAAAAAAAAAAAAAAAAAAAAAAAAAAAAAAAAAAAAAAAAAAAAAAAAAAAAAAAAAAAAAAAAAAAAAAAAAAAAAAAAAAAAAAAAAAAAAAAAAAAAAAAAAAAAAAAAAAAAAAAAAAAAAAAAAAAAAAAAAAAAAAAAAAAAAAAAAAAAAAAAAAAAAAAAAAAAAAAAAAAAAAAAAAAAAAAAAAAAAAD+////AAAAAAAAAAAAAAAAAAAAAAAAAAAAAAAAAAAAAAAAAAAAAAAAAAAAAAAAAAAAAAAAAAAAAAAAAAAAAAAAAAAAAAAAAAAAAAAAAAAAAAAAAAAAAAAAAAAAAAAAAAAAAAAAAAAAAAAAAAAAAAAAAAAAAAAAAAAAAAAAAAAAAAAAAAAAAAAAAAAAAAAAAAAAAAAAAAAAAAAAAAAAAAAAAAAAAAAAAAAAAAAAAAAAAAAAAAAAAAAAAAAAAAAAAAAAAAAAAAAAAAAAAAAAAAAAAAAAAAAAAAAAAAAAAAAAAAAAAAAAAAAAAAAAAAAAAAAAAAAAAAAAAAAAAAAAAAAAAAAAAAAAAAAAAAAAAAAAAAAAAAAAAAAAAAAAAAAAAAAAAAAAAAAAAAAAAAAAAAAAAAAAAAAAAAAAAAAAAAAAAAAAAAAAAAAAAAAAAAAAAAAAAAAAAAAAAAAAAAAAAAAAAAAAAAAAAAAAAAAAAAAAAAAAAAAAAAAAAAAAAAAAAAAAAAAAAAAAAAAAAAAAAAAAAAAAAAAAAAAAAAAAAAAAAAAAAAAAAAAAAAAAAAAAAAAAAAAAAAAAAAAAAAAAAAAAAAAAAAAAAAAAAAAAAAAAAAAAAAAAAAAAAAAAAAAAAAAAAAAAAAAAAAAAAAAAAAAAAAAAAAAAAAAAAAAAAAAAAAEAAAAAAP7///8AAAAAAAAAAAAAAAAAAAAAAAAAAAAA/v///wAA//8AAAAAAQAAAAAAAAABAP7///8BAAAAAAAAAAEAAAAAAAAAAQABAP////8BAAEA/v8AAAIA///+/wAAAgD///z/AQAEAPz//v8EAAIA+//+/wgAAAD3/wAACQD8//X/CAAJAPH/+P8TAAIA6v8CABYA9P/t/xMADgDm//n/GgD8/+T/CQAWAO//7/8SAAkA6//8/xIA///t/wEADwD7/+//BQAPAPj/9P8JAAgA8v/7/w4AAQDx/wAADgD+//T/BAALAPv/9/8HAAcA+P/4/wcABwD3//z/CAABAPX///8LAP7/9f8CAAgA/P/4/wIABQD7//z/BAACAPn//P8FAAEA+P///wcA///5/wIABwD+//n/AgAEAPv//v8HAAIA+f8AAAkA/v/5/wIABQD7//z/BQAAAPv/AQAFAP///P8BAAQA/v/8/wIAAgD8//z/BAAFAPv//v8FAAEA+f///wcA///4/wIABwD8//v/BQAEAPn//v8FAAIA+f///wcA///4/wAABQD8//n/BAAFAPn//v8HAAAA+P8AAAUA/P/5/wIABQD5//z/BwABAPj//v8HAAAA9/8BAAcA/P/4/wUABwD5//z/BwACAPj//v8IAP//9/8CAAcA/P/7/wQABAD8//z/BQABAPn///8EAP//+/8AAAQA/v/8/wIAAAD8////AQAAAP//AQAAAPz///8EAAAA+f8BAAgA+//4/wcACAD1//n/DgACAO7/AQASAPz/6v8IABgA8v/r/xMAEQDn//j/IAD+/9f/CwAmAO3/4f8ZABgA4P/0/yoAAADT/wcAJwDt/9n/GgAgAN3/6/8pAAsA1P/7/yoA+f/Z/xEAIADm/+P/IAAaAN3/7f8jAAkA2v/+/yAA8f/d/xoAIADg/+b/IgARAN7/+/8fAPn/4P8JABwA7//q/xYADwDm//j/HQAEAOP//v8YAPv/7f8HAAwA9P/4/xMACADq//f/EwAHAO//+/8LAPz/9P8JAAsA9f/3/wsABQDy//z/CQD///T/AQAJAPz/+P8FAAUA+f///wkA///0/wAACAABAPn///8EAAEAAAAEAAIA+//+/wcAAgD7//7/BQACAPz/AQACAAAA/v8BAAQA///+/wIAAgD7////BQABAPz/AAAEAAIA//8AAAEA/P///wQAAgD7//v/AgABAP7///8CAAEA//8AAAEA/v/7/wEAAAD8//z/AQACAPz///8EAAEA//8AAAAA/v/+/wEAAgD8////AgABAP//AAABAP///v8AAAIA///+/wEAAgD+////AgABAP7/AQAEAP7//P8CAAEA/v///wIAAQD+/wAAAgABAP//AAAEAP///P8BAAUA/P/4/wcAAgD3/wAABwD8//z/BAAEAPv//P8HAAQA+f///wUA/v/7/wIAAgD7//7/BQABAPv///8FAAAA+/8AAAQA/////wIAAAD8/wAABQACAP7/AAAEAAAA/P8AAAIA/v///wEAAQD+/wAABAAAAPz/AAACAP///P///wAA//8AAAAAAAD/////AgAAAPz///8BAP////8BAP///P8AAAEAAAAAAAEAAQAAAAAAAQABAAAAAAAAAAAAAQABAP//AAABAAEA//8AAAEAAAD//wEAAgAAAAAAAAAAAAEAAQABAAAA//8AAAEA/////wEA///+/wAAAAAAAP///v8AAAAAAAAAAAEA//8AAAEAAAAAAAEAAAAAAAEAAQAAAAAAAAABAAEAAQAAAAAAAAAAAAAAAAABAAAAAAAAAAEAAQAAAAEAAAAAAAEAAAD//wAAAQAAAAAAAAAAAAAAAQABAAAA/////wEA//8AAAEA/v///wEAAQABAP//AAAAAP//AAAAAAAA//8AAAEAAAAAAAAA/v8AAAAAAAABAP//AQABAAAAAAD///7///8BAAIAAAAAAAAAAQAAAAAAAgABAAAAAQABAAAAAAABAAEA/v///wIAAQAAAAAAAQABAP7/AAACAP7//P8CAAIA/v/8/wAAAQD+/wEAAgD///z/AAACAP///v8AAAEA/v/8/wEAAQD//wAAAQD///z/AQACAP7//P8BAAIA/v///wEAAAAAAAEAAgD///z/AQACAP///P8BAAEA/v///wEAAAAAAAEAAgD///7/AQABAP7/AAABAAAA/////wAAAAAAAAEAAQD//wAAAAAAAAAAAAAAAAAAAAAAAAEAAAAAAAEAAQAAAAEAAQAAAAAAAAABAAAAAAAAAAAAAAAAAAAAAQAAAAAAAAAAAAAAAAAAAAAAAAAAAAAAAAAAAAAAAQD//wAAAAAAAAAA/v8AAAEAAAAAAAAAAQAAAAAAAAAAAAAAAAABAAAAAAD//wAAAQD///7/AAAAAAAA/////wAAAAAAAAAAAQD/////AQABAP////8BAAEAAQAAAAEAAQAAAAEAAQD//wAAAAAAAAAAAAAAAAAAAAAAAAEAAQAAAAEAAQD///7/AAAAAAAA/////wAAAAAAAAEAAAABAAEAAQABAP7/AAAAAAAA/////wEAAAAAAAAAAgAAAAEAAgABAP////8BAAAAAAAAAAEAAAD//wEAAgD/////AAABAP////8BAAAAAAAAAAEAAQAAAAEAAQAAAAAAAQAAAAAA///+/wAAAAAAAAAAAAABAAEAAAAAAAAAAAAAAAAAAQAAAAAAAQAAAAAAAAAAAAAAAAAAAAAAAAAAAAEAAAAAAAAAAQAAAAAAAAABAAEAAAAAAAAAAAAAAAAAAAAAAAAAAAAAAAAAAAAAAAAAAAABAAEAAQAAAAAAAAAAAAAAAAAAAAAAAAAAAAAAAAAAAAAAAAAAAAAAAAAAAAAAAAAAAAAAAAAAAAAAAAAAAAAAAAAAAAAAAAAAAAAAAAAAAAAAAAAAAAAAAAAAAAAAAAAAAAAAAAAAAAAAAAAAAAAAAAAAAAAAAAAAAAAAAAAAAAAAAAAAAAAAAAAAAAAAAAAAAAAAAAAAAAAAAAAAAAAAAAAAAAAAAAAAAAAAAAAAAAAAAAAAAAAAAAAAAAAAAAAAAAAAAAAAAAAAAAAAAAAAAAAAAAAAAAAAAAAAAAAAAAAAAAAAAAAAAAAAAAAAAAAAAAAAAAAAAAAAAAAAAAAAAAAAAAAAAAAAAAAAAAAAAAAAAAAAAAAAAAAAAAAAAAAAAAAAAAAAAAAAAAAAAAAAAAAAAAAAAAAAAAAAAAAAAAAAAAAAAAAAAAAAAAAAAAAAAAAAAAAAAAAAAAAAAAAAAAAAAAAAAAAAAAAAAAAAAAAAAAAAAAAAAAAAAAAAAAAAAAAAAAAAAAAAAAAAAAAAAAAAAAAAAAAAAAAAAAAAAAAAAAAAAAAAAAAAAAAAAAAAAAAAAAAAAAAAAAAAAAAAAAAAAAAAAAAAAAAAAAAAAAAAAAAAAAAAAAAAAAAAAAAAAAAAAAAAAAAAAQD/////AAAAAAAAAAAAAAAAAAAAAAAAAAAAAAAAAAAAAAAAAAAAAAAAAAAAAAAAAAAAAAAAAAABAP///v8AAAAAAAAAAAAAAAAAAAAAAAAAAAAAAAAAAAAAAAAAAAAAAAAAAAAAAAAAAAAAAAAAAAAAAAAAAAAAAAAAAAAAAAAAAAAAAAAAAAAAAAAAAAEAAAAAAAAAAAAAAAAAAAAAAAAAAAAAAAAAAAAAAAAAAQAAAAAAAAABAAAAAAABAAAAAAAAAAEAAQAAAAAAAAAAAAAAAAAAAAEAAAAAAAAAAAAAAAAAAQAAAAAAAAAAAAAAAAABAAAAAAABAAEAAAAAAAAAAAAAAAAAAAAAAAAAAAAAAP///v8AAAAAAAABAAEAAAAAAAEAAAAAAAAA//8AAP///v/+////AQABAP7//v8CAAIAAAD///7/AAABAAEA///7//7/AAAEAAAA+////wQABQD///n/AAAHAAQA/P/3//7/CQAFAPj/9P8AAA8ABwD1//j/BAAJAAQA+f/4/wEACAAEAPf/9f8FAA4AAgD1//n/CAALAAAA+P/5/wEABwD///f/+f8CAAgA/v/4/wAABwAFAP7/+//+/wAAAQD+//n//P8CAAUAAAD8/wEABQABAPz/+/8AAAIA/v/5//n///8EAP//+////wUABwD///v///8BAAEA/v/4//v/AAACAP//+/8AAAcABwABAAEAAgAEAAIAAAD+//z/AAAAAPz/+////wQAAgABAAEAAgAEAAQAAgABAAAA///+//z///8BAAAAAAABAAIABAACAAIAAgABAP////////z//P/+//7//v8AAAAAAAABAAEAAQAAAP////////7//v8AAP//AAAAAAIAAAAAAAEAAAD///7//v/+//7//P/+//////8AAAAA/v///wEAAAD+//z///8CAAEAAAABAAQABQAEAAEA///+//7//P/5//f/+f/+//z//v8BAAUACAAIAAgACAAIAAgABQAAAAAAAQABAAAAAAAAAAAA/v/8//n/9P/y//H/7v/t/+v/7//0//n//P///wQACQAOAA4ADAAOAA8ADgALAAkACAAHAAUABQAEAAEA///8//n/9//y/+7/7//0//j/+f/+/wQACwAPAA8ADwAOAA4ADAAIAAIA///+//7/+//5//n/+//8//z/+f/3//X/9//1//L/8v/1//z//P/+////AgAHAAcABwAEAAQABAACAAEABAAJAA4ADAAHAAUACAAJAAcA///4//f/9f/1//T/9f/7/wAAAgAEAAQACAAPAA8ACwAFAAUABQAFAAQAAQD+//7/AQABAAAA/v/+//z/+f/4//f/9P/4//7/AAD/////AgAHAAgACAAHAAQABQAIAAcAAQD8////AAD+//f/9f/1//v//v/8//z///8FAAsACQAHAAgACwAOAAkA///4//T/8v/v/+3/8f/7/wEABQAFAAkAEQAVABEABwD///7////+//X/8v/5/wIACAAFAAAAAQAIAA4ADwAHAAIABwAPABIADwAIAAsAEQAPAAEA6v/a/9f/3P/T/8X/v//I/+f/AAAIABIAGgAnACoAEgDy/9f/xf+4/6b/k/+T/63/1P/y/wAADAAZACIADwDj/7f/kv+E/4X/if+t//X/VQC0APQAGgE9AVABOAHoAGYA6v+S/0v/Dv/c/tb+G/+c/yQAmgD/AFcBngG1AYQBIwGtAEEA3f91/x3/+P4W/2f/w/8PAFgAowDeAOsArQAzAKT/Hf+c/hj+r/2D/aT9Bv6K/hP/qv9JANoANQFFARsB2QCIACQAp/8d/6/+b/5X/k3+PP41/j/+Uv5Z/k7+M/4p/j3+X/6I/sf+Lv/C/10A3QA8AYcBxgHsAdEBYgHIACQAd/+5/vX9aP1G/Yr9Af6I/hX/sP90AEcB/AFYAl8CQQJAAoQCEAO5A0kEvQQOBTIFAAVKBCAD5QH1AGQAPwDvAFIDkQexDEwRvRRbF4sZnRoaGUUU0wxJBL37Y/Nv66Dk59/K3R/ea+B25CDq1vB79+r8uAB1A88FtQd6CNcHeAaMBbYFYwa/BpoGKwalBaIElAKB/8v70ffI873vFOyy6Unp3OoP7kvyTPc5/ckDOAqQDxcT0BQqFU4UNxIIDxsLDQddAzEAm/2++7j6avp9+nj6L/rj+cz5DfqP+gD7b/ta/ET+awFbBQYJ3AveDVkPehCyEDQP4wthB5YCMv45+qH2xfPx8VTx5fE78y71kfcN+jv8zv3W/rv/zwDrAcACNAN+AygEYAWvBnoHbwe8BukFCAXTAxcC8f/X/TP8Bvtg+mf6BPv++wz9KP54/wIBfgKQAwoEFgQHBCgEaQSRBJUEZwQbBM0DbQMBA3QCkAFGALP+Rf2J/Gv8ifym/N38hf2l/vL/EQHeAW0CrQKBAvMBSgH1AOMAsgAmAGb/+/4S/zf/5/71/ej8T/zY+y/7ePp7+vD7Lf4WAFYBdAJOBIYGvQdKB4UFTAM0Adj+6vvj+IL2WvU19XL1B/aD9xf6Jf2m/xkBBgIVAyoEhgTGA3ICaAEQAfkAoAAfAOf/NACyANMAiwAgAMv/d//K/sP95vyQ/Mb8Kv1k/a/9Zf6B/6YAVAF/AYYBsgEBAjYCMAISAg0CKwI0AuwBWgGZAND/8f7Q/ab8s/sV++L69vp0+538P/4kABgC3QOMBSIHYwgdCe4IvwfkBaYDMgGp/lb87PrQ+vD7gP4mA2kKRxNdG/8gYCSPJoMnSyVNHhET5gUI+SLtIeLF2DPSLM+Pz63SRNgl4IPp8vLN+l8ATASGB3MKcgy5DLMLvArsCgkM8gzuDAYMWwq1B7EDaP5j+DLyHexX5mLhKN6T3fzf9+SN6/Py/Pq5A7sMwhSBGqYduR4rHtQbfxfLEeQLkAa6ATH9WPnx9i/2Zva09rD2lfbV9mr37PcJ+Af48fh++2L/4wOKCKwNqROQGeEdmR+4HgscsBceEXkIuv599eTt4Odz4xvhW+E75KHocO1v8rv3W/1zAukFywfwCP8JCwtzC7MKTAn+B+gGlgWLA+gAWP5F/If6ivhq9jr1ZvWt9nb46vlR+2r90/8DAm0DxgN3AwgDygKFAkMCLwLHAUUBCAGeAOgAwQHYAdgBhwHlABUCGQXICWEQQxbOGkgf+iIVJmcnGSQpHdsTfgir/JHwzORS2zLUQ88dzVrOZNNV22jk9+x49K37hQKFCFANvw8lEPMPZg/+DqoOTg2OC8AJ+wahA9P/W/sD9zPyg+x65+njSeIb45DlV+n47j32x/4PCM4Q7RciHVogSCEFIMcckRePEX4L7wS7/r759vXn88/yl/Fh8XDy3/P39QT41vn+/LcAOQQwCHkLMA4OEWcSNBLcEKQNtQmDBUkAK/vZ9m7zvPFq8aLxyvIy9TP4UPv9/YT/hQCUAeEBjgH1AP7/xf+NAHMBgwKPA14EhAWeBvEGpwaiBfgD5AEu/3T8UPpz+Nr2dvVx9ID0wfUh+Pr6KP3Y/lUAlwHtApADhQPkA7wD3wL9AtUF1Q1EGZ8iWCiRK6Iu3TKQM0UtUyFZEX8AIvBM33fQocW0vv27rrxAwRfL+thx6HD29QAICR8QvRaMG94bHhhmEy4QMg9BDpML2QjyBvAEEgJ9/Rj4DPMB7ZflUt7W2PTWm9h33CnigenY8pL+rgsNGIAhkycLKxYsYSpjJdMdpxVDDU4Eivtl9D7wr+6x7XXsE+xl7RzwC/Oz9F71KvcG+wgBQQgVDoMSDhcvG3EeeR+vHIgX4hA5CL7+l/Xd7dTovuWy427jv+Wj6ijxcvcR/C7/sgHKAywFbwVoBGADdAMiBAAF2QWdBusHMQk1CTMIbQYCBEoBCf6h+t/3kfUI9K7zDPRA9W73Hfoc/dn/VwGlAVQBkAA9ADkBLALaAVgB8AJkCh0YxCWYLvEydDVpOVs8EDgjLIIbswjY9VziK8+ewP23rrPKspS1Cr4izd3fofGt/+sJ6xEYGewe0iDJHQgYVxLcDkYNIwvJCJ4HcQYnBP7/Svo99Snwnug034LWhtGh0RPVNNom4bPqW/caBvEUlCGKKiIwozLRMbktsSYlHigVLQuBAAv3xfD87aTs2eoY6QXp/OqT7VDvOfCd8bH0B/nz/QYEhwv5E0EcXiJtJXomziW0IgYcCBHSA6r34+0M5j7f9dlf2BjbhOAz5x3uDPU+/GACEAboB/oI2wmvCqUKMQm/B+8HQglOCvkJKggLBmUESALD/o/6yPbw8zPyGfFw8BLxM/N39oX6If60AN0CegQyBQ0F2wOIApQCcQNSBSILwxW6IpUu0zUlOeo86D/ePC4y9SC1DFH52eXA0ZzAm7Qdrjut7rCMuQbIHdqr7Jj9BwsXFVwdZyPMJcsjux2IFqkRtw50C/IHCgX3AnsBsP63+Xj0Ne9P6M3fy9bfz+fNUtAH1cDbOuUD8tABZxL0IAssYjMDN143FTTKLBYjihiODYgCA/i371nrjelM6Jjn9+et6ZTsEe9M8HzxEfOh9eT6wwHmCC8RVxltIDYnhyspLAUqhiPlGJQM+/6Z8YPmJ92i1a7R7NFP1gje8ubV79n4CgGRB6UMtg+3EIQQFg8XDZgLbgrDCUEJkQdbBcYDGAKh/yX8w/fy81DxVe+K7kDvqfCH8iz1/vib/WQB9QPBBWoGiQakBl8GnQbDBlUGCQqVFFQi+i6eNk45xzweQfs/nzb9JYwRV/286EzT6MAgtBWtAavprEy0uMLF1cbp/fsyCo8Uah2hJNcnOyYsIEYYAhPZD2IL5QYQBFwCcwHp/nP5F/R/71TpKOHd1+bPiswBznPSAtkt4uju9P5TEEwglSynNGE5DDu+ONExZSd0G10PdAOQ91HtIOdt5ErjA+Oz4z/meuqk7uHxLvRC9kf5e/04A/QJ6w8oFrEd3yTyKj0ujywvJ0AfcxT2ByT6Y+tp3rbUIM5kyzvNMdM+3L3mT/Gy+20FoQ0LFKkXrhfAFXITPRFGD8wMvwkRB4kESgLZAC3/OPxf+Lz0z/F97xzu5O147m/voPAZ88D3wvwqAFgCUQS+BpQJsAsLDPwK0Qm8CsgQShzqKCEybzYVOBw7UD6SOz8wiR5rCrX2luJyzjC+nLPCrcmr7a1+tnDGQNqj7QH+dgrGFLYeuybNKdom+x9HGRIVnBHNDLoHJQTvAWf/3fov9ZjwTuy15WPc/tJ6zWfNndAL1VjbLeVF82wEsRWRJOAvojcwPBQ9ijmuMUAnqxvIDucAyfMp6g/lWeJC4KzeFt/S4mjo4e3Y8aD0zPdm+7QA1AdGD/YYzCJXKMArlC2FLOgpmSInFRkGuPZF6Pzcp9NszFTJscsm06HdDeny8wT/zwkFEpoX3BlVGWQYpxUtEYANRwrUBx0GnAKN/nH89vog+ar29/Il7wjt4ey17Y7vwPF989D2Xvt8/kMBsgQSCP0KtgsQCqAIIQgOCPQKphPiH0MrkjK1NRs6dEFGRDY9gC1UGcgFKfOH3UrHP7bjqtqkcKS5qX62tsmB3mvx9wFUEOoc/CcEL0UvnSnaIdYbkRcEEsYKPQTn/zv9vPmJ9BXwG+xM5rHeNNa+zx7Ons9A0lnXE+Bh7J77+AvJG6cpATR7OtI9zD1GOUMwViQiF4gJavzT8NPnNeJb3gTbatqX3fziA+nL7dHxRPjI/wwGyA3zFTIcDiJ9JQwmhiasJFcfPhgSDmUB2/WA673hidr01fvT+9Wb23zjP+yA9L/8/QWUDXcRaRPcE1oTBBKZDsgLmgpfCOkFNgT9AQcAYv+F/mb8dfnF9VzyxPA+8NnvBfBB8L3wYvNJ90/6K/3JAG4EegfGCfQKTQuZDB8S0B2VKxY1gzn2OyVAOkXhQ0M5HyjsEsb9IOll0py9864/pRigM6AMp4i2vcvl4GPzxgPAEnEggSymMzwz1y02J6Ah2BxVFoUO4QdtAur8t/ZO8PTqcubN4B/ZyNBty6/Lec/r04/ZH+Ku7lD+cQ7uHW0rwTRLOl89Rz1WOAQvGSQWGF4Kc/z379vmb+Hy3AXZH9j32ozgGec87PvvrfZzAhIOVxaXHHEghSS3KakqSid4IR4YSw5RBaP5qezg4pzc0dj+1kDXUduw41btvfXm/HoC3gc7DgkSbxFiDpELBAtOCrwHDgaHBYIEgwNOAwgDjQG3/9H9hfoA9sPxyO997x/u6uyj7aHvLfOD9xP8jAHpBWkIDgtZDIkNBhbiJOkxBDrVPCo+k0TiSmRHjzrGJ7ISZP+96iXSsLtorDOjCJ4lnUOjyrKTyOndevBFAbYQNCAlLkE1lTQpLycprSV4IegYSA8PCM8C6/2e91XwouqK5j7hONk90L7KZctGzxjTeNfB3hrreftoDNEb7ChyM3I7XEAjQJs61DKmKYkdqQ7V/l7xd+jF4c7aWdXS02fWf9xW5JbrNvMS/S4HChCdF5QcAiBiIzsk0SHTHXYYxxFYCgECrPhg8HvqNuaG4wHis+Gz5JzqsfAO9qv6Ev/dA5UHVgm3CTcJxAhYCF4HewZBBkUG/wWsBb4FUQUqBK0C0P+y+7z3dfTi8WnvXe3m7H3tAu848jP2EPqz/p4DLgeMCbIKgA04GOInLTSrO08+GUBrR1hMykXCNxcldhBb/dXm4Mw9uOaqD6LFnKab5KKAtJrKNd+l8WoCzRK6I6Ew/zQpM9YufCoSJwMh6BblDTMIiQOv/hH4Y/Cq62voBeL92IHQ8stkzJ3OxdCU1Kfch+kE+b4JUxpDKFMzwDt6QINBjz4UNwUsLx6BDmv/5vKo6Lffatga1C3UCdnN4PbonfD89/H/eQjnD/wUlRdQGAUYixYNFIIRsA7tCkYGqwAQ+yr3efVM9LjxjO4m7e/usvKD9b72wvcF+uj9OwHTAqQDCgSmBMkFbQbZBt4H5ghWCSEJ9gfdBSUExAJw/8/5v/Qo8t/w4+/J7grtc+3g8cL2ovra/Rv/jgEzBoAIvwzUGHUnNzQYPcA/xEPdTDZQVUkwO+UmHxJy/nbmY82PuYSq9p8ymoOZ96EbtLnIPduE7ZD/0BBGIiovFjPuMfsuUStVKMEi/BjhD2EJoQOu/Y/2aO/L6pvmU98k1vbOgczJzYTPbtAK02nb6+nD+hwLphkwJkkyiz3uRERGAEKLOrUw2SP9Ez4CJ/Oe6ZXh5tiH0hzRJ9ZO33fnhO3083v80gUCDWYQGRHdEYMTOxRHE4gR2g+KDcoJYwaSA/7/w/xx+bv0jPCx7jDvcfB08Avwu/FP9t/64/wV/i0ADgNVBigIwwd2B9EIYgrlCZsH/gT+AtQBnP/L+wv50/fE9rP1I/QI84P0rPcT+q762/qg/OP+XQN4D+0fhy4+OpxA3kUMUHhV1k/7Qz4xjBrJBDvrGdCLu+irzJ4xlsqTgZsFrnrD8dW756H6uQyZHS8rpjGrMvkwdSzRJ7EjCh1AFgcREApVAkP7QfSc7x/r/uGt1njN2MiHyW/L58u9zp/XmeUO9hMHURdZJpEzkz1EQzxEgEHNO4ox5iJtEs4BOfRk68ziG9kB09PQXdSB4dHu4PTp+voB9wh5EsMW6ROZEVYOnAoxCk0IngOEAJb/i/9V/xv/uP/CAH8AVf6Z/Kn7P/pi+RX4ZvWn8wH0e/YM+XT5ifrw/SsBngOXBpoJZAqXCSsJ2AfPBQwEdQE//8j88/e49DL0mPIY8r/zwfM68yv0yvUB+ZX+xQk/HBAuizpDRP5MlVfLXx5cak5oO9MkUQ539cLXkLzgqW6doZNljhmToaIQuMPM1t7g8T8GkxgSJ6cvMDEWL8IswSnJJA0eYxdCEpsNAQj5ALv5cfS977joxN6O06jL2sjMx13HbclL0Nrc0ezo/UEPOiAMMPI8JUVNSNdGdkEWODkqohm7CC35Ku3r44bagNLxz+jUft/N6ZHwW/bH/eoG6g78EZERyxDJD7YO/wwGCqUHvwbtBegDGgE+/73+Mv5Y/KD5dffC9lr3Nfdt9Wr0CPah+bj8F/1m/J39lwAaAwIEWgQDBbsFXAbjBd0DgQKvAoQC6wCz/bT5jPeJ9zn3qvW984fyvfJ59Nb2dPeS+G0CShXTKBA5iEO4SchUvmBwYCRVLEMtLFwWQf4H3orAPK4voZ+V0o0QjjubG7KIyCHbHu2k/4oS/iMJL+Ix7C/FLMIpmyUaH3QYKxM5DkwJ0gKh+kD15vIN7jPkp9fkzdzKdsvEyv3Jv83E16/mgveaB0AXBSf3NPU+IUShRKBBRjtHMDYhxBBxAVr1quu84GnWLtOh1ynfZeZS65vvRff/ACMItAvCDKgMuQ31DrwNQQyXDNYMmQumCFkF7gNWA4kBX/4L+iP2EPWt9SH1QfND8h70m/eB+fT5RPte/Sb/UAAxAY8CUARNBUAFQASBAq8CHgUwBQAClf4T/ED7h/pD95zzEPIl8uXyJfOA8t7yqfp4DSEiojF3PiRITFK3X2BkxVvaTK03wR9VCOfqlssptZ2lSpgqjkyL15QzqWTAx9Sh5iP5Jw02INAt1DKUMUouGiuAJx0hSRlLE/0NKgnhBC3+RvdM82Tu8uUL2yzQ4skyyHbG4MSixzbQwN2o7oQAuhGIInwyOj9oR8xKG0noQhw47ShuGMsIHPoi7ZvhSte40PTPDtWH3gnoUe/g9ov/BAiKDyIU5BTKE7QR9Q7oDPMK/Ac6BfcCdwAS/2D/3P+h/1/+FvxU+gX6+/ku+UP34vRM9NH1e/dE+If4t/lH/HL+SwAJA1cFRAZxBuQF/ATvBGUFcQS1AU7+5/qU+JT3y/Xy8k3xKPHW8Z3zM/XD9b77fA3hI7Y1wUKUS49UWmHpZmZenk5lOYYgzQfF6kXLk7Nio4qVjosriQGSv6UYvQvSPOWU+C0MAB/vLL8ypTJwL28rJiisIi8bnRVoEA8LNQdoAbv63faI8SvoMd0G0lnKU8d7xIfB5cJuyl3X+uf3+T4MjR56L2Y9mEfeTKNMb0cbPYUuAx4vDY39G/DY4+7YB9Ii0I3Sk9ku4+HrlPQl/qEGJQ4eFD0X6Ri7GGEVhRHmDs4LiQfYAmX+2vqo+OL30fch9w72CPZA98j4vPnW+Tz6Lvuf+yP82fyy/NP87v2j/jj/YACYAZsC+gKZAl8CnwKeAuYB1ABq/3v9z/uQ+vD4Cffu9DjzH/Or80n0wvQY9UD9JBKwKO84RkQtTJxXtmXYZzlcdUrXMwQc9AKL43vE267An3SSAYm9iLKUE6ovwYLUXeYZ+psOYCHzLaIxFDCYLfErpCmuI3AcShcDEy4PLgpDAv37d/jd8WTmo9iBzFPGQMTSwGG92b/yyWrZtetA/lAQSyNrNUFDLky0T79NskfGPAUtiRt2Cj/7De4w4e/Vj89bz1nUotqj3yvmZfA4/I8GEQ3cEDEVhBkXG20ZDRZmE+cRag69Bx0BCP0k+4L5Fvao8T/v7e9k8jz0p/PL8vb0+viz+0n85vvd/K7/uAEiAnsCSQMhBTsH9Qb6BB4EggTNBK0DvADK/cD7cfkc9x/1FPLG77/wu/EN8qT06PWE+AcHWBwqLydAZEpFUK1dhGgxZOpXQUXSLFAWufvP2cq9vqpyms2NI4exieSYYa/qxH3Y+evX/0wU6iXWL2QyHjBuLJEqXSd+IAAa5xRkEJYM2gb8/7b7KPcM7vjhONY9zQTI2MM4vxy+vsMXz4reM/BtAsIVNSleOelEPUzsTrJMJEUVOIQn8hWiBRP4kusH3/DUDtBs0XfWldsE4ijrJfXR/t0GUAyaENgUJBiNGMIVXhIHEdAQFw5jCEQDNwBs/on8Kfky9Yby7/G68pLypPFD8jv09PXr9jr4mPqu/Pz9O/+SAEECmwSXB6AJDwnlB3sIcQlWCN8ETwEf/938Sfn69AzxKO8o7xbuXuwl7aXvi/OY93X5YQMMG7cxGUFBTKdSB13SaaZod1slSYow4Bc6/oPdCb8/qkaa6owShciG65Sdq1PC79Uv6Qj9ehHRJJMwVDPnMd8uzyxJKh8jCxxtGOgTbQ7LByf/5PkW9y7vN+Kn1IvKMsbfw8+/hr0xwurNpd3l7j0AFRJGJUw3qkRHTMdOg03yR688Ly3WGwoLt/wn7yXh1tWbzwPP/tJ2177b0uLN65D1ZwDxCb0Rlhg3HUcgqSG6INUf9x0NGLEPLgeM/0T54vLM6//lGuPQ4sLkK+hy63nvOPUT+kn90gAnBMUF5gVRBZEEnwTpBWkHXAjlB0wGTgavB0MHkwQsAXb+QvzQ+XT3PPSi8HXvju+G7iLtd+0F8fb1iPhO+YUATxSeLEc/FUs6UVdZeGcWbXpiXE+sN2MfZAaj5Q3EvqzamwuNm4IBgAeK15+tuAPOUeBx854Jwx8qL/E0yDQUM3QxcS/LKucjuh1MGP8S9AzABK/9dPm08pjmdtimzDbGgcO8vyG8Or6Bx8TVwObe+HoLux40Mfk/kkkDTrxNeEkyQRs0AiNbEWICT/ZA6lfd2tO60OPSBtft2RjeFeda8pD8hATDCZoPlhcjHa4eAx4dHOEaOBkUFPIMeAboAHr8AviT8Z3rROnr6U3r5Oq96SzsofHx9T/46PmQ/PkAqATkBWYG7wa4CKAMxA5vDbgLywrDCdQHKwRq/zL73ffO9Cfy1O9P7R7sIO2n7Zztku9Z86b4ov0f/7oBeA1fIhk41UW5S1JRw1vVZeRjplRfQL8qSRM796DWk7rqpzuZF4wFhHaGHJYurcDDHdcd6aX9FhS8Jl8xkTPcMQoxlC+VKgcjJBwTGP8UFQ8QBlf+Wvt3+cfxnuM/1Q7N6co3yAbCrL0mwdTMItz86t35UQucH74y6D/ERiRK3kueStVCADTAIvAT2gdV+0bsXd2X1GPTadU41l7VH9hg4sHvbvrrANkF8w00GLgeiyDnH+Qehh6iG2UUxwvkBFAAvfu/9IbsgucW6CTrpuzK613rCe9c9eT5XPuw+739pAE4BKwEDgW5BnIJZgvrCxkMaAylDEMLmwdtA5X/nPuG9yr0kfHr7i3tr+wW7S/vSvH58nf2oPpV/k0CsAQgB10RIyPHM8s/UUaeSnJTGFvbV4hLtzlTJFUO7PRK12y+S63Onr2SLYwRjwOeVbPqxpHYWusV//gShSMRLF8uAy7PLGMrIyfpH/4ZsBYNFAwQPwlqAmD/vPws9cDoe9uj0mfOOckrwnO+Z8G0ypjX1eS988oGVBtXLXg6c0IvSJVMx0tSQ1U13yWPGPkMAP/k7tPhkdpy2HnYntcb14zZVt8058DuMPYm/28I6hDuFxYdZiLLJxsq7idAITIYZhDGCQIBG/Uz6Tzh1d4S3xzeI96S4hjq7PGG9xD7e//yBOMIygnACAgIFgn+ChsLjwnFCEkJ5goSDEcKKwb3ASb/2v3P+6z3J/O+8NzwSfHu8CTxPPKZ8jjygvP09vX6Xv4m//L/lAn1G1Eu6TwBRpRLclSFW21YHU+cQK0rGhUY+7DdrcbBtsanm5pAkoSSi561sdnEvdWd5Wr2Nwn/Ghsm0inlKXgpoSlzJ0sicR71Gy8Z5BVKEG8KIgeLAhf6Ie8t4lXWkM4WyDrBHbzRug7A2ss+2h/quPysEMwjAzSBP71Hy01UTl1HRjtkLb8gFhUlB0b3mOlm4X7eDd0U25Haw9wV4ZPlWeiu6x/ymvnIAPwHJA+mF9IgaCe6KuQq5icuI3ccqxLhBqj65e765M7dAdnk1jXYt9wD5Pnrf/Lb+JX/YAVGCWkKSgq9CjkLVAvRCicKhAqHCzIM4gtWChQIRQXKAZT9WPnc9b7yOfCN7nbt1e29727xSvIn80X0CPar+Zv9hP8TAKf/cgKtD4AiHzHxOhBBV0cEUntYnlOuR782qiJyDUj0L9rUxe61zadynNuWT5tHqd66e8tA2uroe/lIC6YZDyE/I3oj/iMbJKchWh69HCUcORv/FzkSCA5FDHkI6P8V843lp9t51IfMUsR3vvy83cGfzPvZjejz+AEL8RwwLKQ3yz+FRLlEkj/8NdQqLCBBFdkIP/zT8VDrGOnl6DzoGOfB5oLoqOu47Qrt4+rG7Jbz0fin/LcDOA0FGG4hLCajKA0qGCmLJekcHw9aAWf26ezv42rcG9i91yXakd6d5LrqOPGs+Fn+HQFxAyUHPgsnDQAN3A0bECQSoxNGEzIQDQ2bC0wJkwPc+9L1kPKe7wzs6Okf6iXsr+8K84f03PWJ+a3+ZAFPAAf/sADUA34FaARqA/cIChdDJxMyBzaSOcdCYEzxTJVDKTUpJu0WdQNJ7FfXXcdmu42xIqkJpkOsd7kFyC3U9t2C6N71tQN2DQ4R5RBlEeYTdhWgFO8T8xXeGc4bPhpWGDwYKBjrFFUM/P9n9B/rGuI32DHOm8aPxPTHZ8641u3g7u3G/XkNMxpuJD0tnjMMNgo0Gi+uKUUksB2RFcYMGQUYAIX9n/u7+O/0vfFP8KPvZe2G6VTmIuY16ZHsb+/C9Kv8jAXzDcgTCBjiG8Ed5Rz2GKwSawzABtkAYPrB8xfvzO1B7ozuq+5J71bxkfSf9gL3tved+XP83/7C/+4A/wPfB/cKFgydC5YLXAxXDB0K4wURAgIASP7g+5j5F/jR9634PvlO+QH6nPts/fn9l/wY+yL7tvt3+836SPoW+q/70gD2CfEVniGpKtwx9jjIP6ND9UEGO68w0CP9E7ABsu8k4IrSRMY+vFO2y7XZuYrABshOzyHXcuBn6vfyhPjn+8H/wwQ+CYgM2w+AFEIaKB/nIc0j+iU2J3Ml9h/WF3YOXQSh+XnuW+Mu2ZfRrc0IzcDOrNKW2ZXj1O5k+fMC2AsYFPEaLB/GIOQgRCDvHuYcixouGLEVShOBESEQQQ4DC5MG1AHF/I33hfMt8Gvsw+k96YHqju2A8cf1Vvpe/hsC5AUsCLgItAjjBykGLAQIAjUAO//B/q3+cv61/fb9av8YAHH/c/4H/hX+xP0a/av8a/yj/Jf9UP4v/hj+2f4BAI0AfwCGAI0AoQAqAccB9wE0AsICGAPuAp4CnAKwAhAC5AD5/1D/vv4z/ij9c/vx+Tr5Fvnf+B34ZfeX92f56P0mBXANXBWzHHsjxSkSLzQyhTKoL2YpSyDyFHYIgvxd8Uzmh9tc0jLMn8kMyl7MrM+C0wbYb90C4wjor+wZ8Rj1l/ig++P+ZgMrCQEPyhNdF5Aa7R2CIAIh+R7PGloVCQ/XB///5fcp8K3p1eSH4QXgteCU4+nntuy58V33uf3oA8QI3QubDcUO8Q+6EI4QqA+nDhgOKg6LDvcOkg89EMoQGBGJEN8OuwxGChoHCANI/ov5WPXb8RTvtey36u3p4urj7BHvTPEC9Hj3Svvm/usBUAR3BkcIOgloCW0JpAm4CeIITgfjBcsE7gMdA9wBPgDK/rP99PxP/Kn7RvsD+3/6A/oW+qD6ffuf/Mn97/5fAGgCmwQWBtsGogd3COcImwiKByoGAQU0BGYDGwKcAKr/M/+B/jH9kvs4+jv5afiu9zL3XfcQ+LL4Vvk5+9n/AgdYDscTiRd2G9cgrSZGKsgpliVKH/cXXA8pBSr6fe+g5YzcgNSkzljMh8190HPTVdaK2sDgseeA7WrxHPT39ob6B/7gAHsDkgY9Cr8NhhAME+gVzBijGmMaNBhTFYYSTw+3Cp4EHP6I+Gj0ZfH/7jPtkOxz7ajvrfIL9rT5iv0dAT0EwwbYCNsKwAxwDsMPfRDoECkRRBE+EaUQHw+7DNcJ5QbgA48AGv28+ef29vTG8xzz6PJO82X07/WX90n58vqB/P39YP+WALUByAK4A4IEKQW+BScGJga+BSsFbgR1A04CIAEMABz/XP7p/cL9/f2i/kX/lf/J/zEA1wBaAWsBUQF2AeYBfQLmAu0C0gLnAhkDAgOMAvIBZQEDAb8AawDv/47/mv8OAIQAjQBEAPz/7f8LABMA1P9j/9j+Sv6z/R794/wC/QL9yfyJ/In8+/y5/Vv+pv6f/o/+r/7V/tH+mf4//sn9Nv2y/Kb8Rv1H/j//3f96ALABZAPeBH0FTwXhBGsEjAMLAhwAH/5q/Nf6JfmN94z2d/YZ99v3evg6+Vn6yvsr/Q7+kv4n/+T/bQByAA4A0v/+/0wAbQBaAFkAngAUAXgBpQGyAdUBBgIfAjoCgwL4AlcDegNuA04DNANGA3oDpwO5A8MD2QPXA+MDBQQbBCcEDASrAxMDYgK2ATQByAByAFkAZwBZACwAGgBgAPsAkAHOAbMBbgFTAWkBYgFCASAB2QB1ABEArf9g/0L/UP+J/5X/Lf+g/mb+j/7K/sP+X/7r/aX9fP1P/Un9s/1X/rr+w/7B/vP+Nv9O/z7/Jv8W/wD/xP5y/kT+ff73/kL/Rf84/z3/U/9c/0X/I/8M/yD/Kf/w/q/+uf4i/6D/of84/+z+w/6l/qj+sf6g/rP+H/+j//v/SQC+ACoBFgGLAD4AZgCkAJ0AFQBc/wj/WP/q/xIAtP+F/7z/3f/o/2AASgEEAiYC7wHeAfkBCwIbAugBIQEuALr/mf9g/xX/t/5O/jX+qP4z/2v/df++/04AtQDjADUByQFcAmoC/QGYAUUBzwB8AF0ARgAqAA4AEwA+AJYA4QDnALsAegBpAIgAfwAzAOr/6/8fAEwAhgDkAAIB7QDxAMYAMACG/0H/U/8//+L+Wf4L/kT+t/60/k7+gP6g/8oAFwG7AL8ArAECA3gDpQKwAYkBvwFnAUsAMP8i/7X/n/+p/qT9gv0b/pf+x/4u/wIA+ABrAScBxgCmAJMANwCr/13/d/+7/7L/Mf/I/gr/gf+J/x//5/5f/wwAZwBwAIYAEQHVAcYBpgDC/4T/R/+i/uX9uv1h/jT/TP8A/y7/0v9PAGoAPgAtAMgAHgFtAM////+MADwBYgFgABUADwFHAfwAYQGfATUBUwFFAU4AHAAJAQMBjv8V/6f/4/59/cn9zP4g/4j/BACt/+3+9P5M/5z/5AAAAq0AHP8IAAoB9P9r/xcBHAKyAMf+qP54/xH/b/7D/kD+OP16/ln/DP1c/Kz+T/9x/0ECUQRfA18CtQFCAMb/KAHCApgCUwCa/b78C/7k/+AA+ACQAegBfACN/hz+E/7H/Qr/hgCj//b+XQD2AA4AlgBvApUCnwHhAVsCvAHTAGkBaQJ7Afj/zP84/0r9tfwF/bX8Yv10/8gAJwBc/2r/fP4//sEAqQJaAQ8AVwG0AscB1P+f/zgBxAF1AbAA5/6x/Tn+Vv/k/ysBNALlAPv/pgCtACMAmQDUADcA1v9H/8P+gP7Y/tP/LgBq/xv/4f+h/17+4v7J/yL/d/9/AI7/Pf7t/l8ANQHOAY0BsgDkADUBev8B/f/8IP/q/3r+lP32/tn/vv4Y/+AAeAEaAe8BKwMiApz/3P4+AKsA7v/SAKIBz/+S/l0A8gF8AQ8BBgIJA2gCZACc/v7+hAARAJf+S/84AKX+a/02/z8BSQGkAK0AkP85/R79z/6w/5f+Mf3A/bf+vf6y/wgBcQD9/sz/8gApAOj/eAB7/3n9nP7PAHUA+//aAGAA4v7Z/jUBGwKrAJ//IAB4AGEAmgFDAtQBPQKQAcX+Vv15/v//dwByALL/qf72/gkBSAK6AZ0BywJGAvT/GP/F/6gAPQCE/wkAw/9a/8X+FP50/qYAWgP6AlMBCQAZ/y7/8P5B/hb/lQEIAhIAlv8fAG0ATADm/ob9qP5x/wz/GgALAJb/DwB1/zb/HP+0/gH/BwCf/2f9Ef/yAW8BGgCg/gwARwKYAeD/+P0f/1P/Zf7J/5AAMQBm/t3+mwJEAi3/wf4eAXgBaf9GACcBBAAJAFgAKgCn/y4A8QC0/1X/2v9d/zD+B/6T/1L/l//VAUQCAgCB/wECIwKPAMj/pAC1AYIAFQAOAH7/IwAg/xv+Lf6M/0EAbf7F/tP/lQAzAPj9/f73/+3/EQHIANwABABgAV8CUv+F/kQAugINAgv+XP7VAXYCWgCT/3QA+f8xALwAQv/f/s3/8f9dABL/Of6y/8YA5ADe/6r/mQDTAOD/2P3+/l0BjwC0/iH+BQCQAET+p/2m/woBBwAJ/lv+jADkADgAygHcAc//y//BAF//W/7y//EALwHXAJIA3QA1AEwArQCyADwC8QLNAMn9ff6hAUsAyv39/hkAiP6S/gwADf5K/eb/xQBJ/5f+uQFgA6QA+P/HAV4CagB/AFMB5P/Z/yYAFwFtAFn/3v8U/pj+pADG/1n/Qv+f//H+Sf8AAcX/mP5B/owAFQJC/5D/eAGvASABvP91/2/+g/4F/5/+DP8q/0QAxv9L/5kAxf9X/pP9wf4+ABYA1AEVAjUBJAD3/3IBVgDCAK7/3/6t/+n+cgAaAKYA0gALADQA4v6aAJL/NAD+AtsB5P9A/skAwwCk/z0BzgK6AlAAXwC4ADv/yv2C/9oA8v9t/18AqwBk/+b/FgB3/47/FgG8AOT/P/8O/+T/0v7j/uf/dQGC//D+iQAO/1D/v/+WAO//4P8H/yv93P/QALsABQAkAfsAwP2Z/in/DgDJ/24AuQHj/qD/DAHFAEgANP+XAWQATv+gAP3+HwCt/1j/zP/0/00BE//y/5H+4f3F//7/ZwFw/xoADwASAKH/Pf6EAPwAkQENAXwB3ADu/7AABgGhAG7/HgGdADv/i/+QAb8AIv/A/mn/Y/+s/iIAP//Q/wv/+f+P/5z+dP8MAK0AXP87AcoA5wD7/1P/3f6C/z4CWgGBAPb+RAAgAcABHwCy/7D/8f96AEL/3v9z/zcANABNARQB0P9r////p/8s/0f/rP5CAGr/lv/4/u//6gApANoATgAxABv/Rf98APcBFAGF/2v+WgBbAT4AD/9aAJYCnAAj/1j/wgBT/23+tP9g/4L/ZP/m/47///8NARUA6f4d/3z/4/9J/wr/sf8z/8z/jQBVAB8ArgDo/yYAcAD+AIgAJQFDAk4AIAB/Ab4ANQD0/wsARgAc/07/y/8q/8f+BP/B/1L/gf+EANT/Ef7S/mAAMQDdAIkAGgD1/3T/2v/PACoBfAFEAHsAFQAI/1P/yP/4AHwB/wDB/wn+zP6FAFsBSQDn//f/rP6f/z4AZgCoALAAPgAQ/hr+xf8t/3D+uv+IAN7/uv8IAL4ASQA8AQYCKwH+/0QAtACkAGoA5ACdAHr/9P/L/27/8v8sAOT/f/+V/7r/k/+a/yQAdQCjAAkApv7b/iwAegAuAAUA7v8nALH/PgBM/23/MwAgAJkAMP/7/5MAyQB+AIz/nf+Y/hb/TgCS/3H/IgCWADAA8f/G/4z/nf8W/8P+e/+oAI4BgwFvAdIAfACjAL7/5/+X/64AzQC3/1AATwABACYAWAAsAHH/VQAqAJz/HQDt/uP/xgCcAIX/gv9T/6n+YwDYAZIA2f/ZAP8AnQAB/xP/Wf8EAD4A2v/R/o7/DwD5/w//C/9Q/3D+JgDc/1P/VQDZAHkBkwA3//P+LQA9Ah4Bxf8ZAGsAIwGGAGv/ngB8ACr/7P73/5n/sP5JAKcBLABh/pP9vP9YAb//v/+FAF4Bfv/2/vQAXABrARoBLf+H/pn+SAB6AO//8f8z/1z/Rf8w/1QB8gCu/37/RP9Q/1AAqwHaAJX/jwAXAVL/8v/eASoBe/+I/9kAl/9p/hEA3gDq/+v/agCMAE7/bv/Z/1L/c/7D/+cA/v8xAJUASwAn/2kATAHh/1YAsAEHAPr+kv9pAIv/UP8qAQAB/f7g/nT/dwA0/3n+4P9CAIv/2f6V/4IA8v+t/7wAo//4/7UB2AFQAAD/xv8sANT/yQDrAB3/n/9MAAX/H/8tABUC0/9d//wAy/8ZAMz/jwBhAPT/HQCj/6b/cf/c/zQAZ//3/mL/XP8AAA4AMwAgAJAA4QDr/74AawB7AHoAev9q/0IAhACc/iT+ngCJAKr+Z/+vAdIAsP6IAJsBnP8t/0wATgAM/27/ewC+/4z/VgD//8P/FQAsAEH/3P+4AMb/RP9HAfYAH/9GAecA2/6x/xQBYP+Y/gYBlQBc/l//RAD4/1MArgAIAMX/4wBnAFwACQEfALz/av8IABIA1P6EAaYAm/46AO4AbAHj/z//dAAu/7r/hgCV/9r/yv6x/80AggBJAQAA2v8n/9P/SADg/j7/k//tAKEA/P+1/2f/SADo/9f/NACT/8j/0v93ANMAxv9nAB0Awf87/2ABqgAh/t7/rgBMANj+rf+EAMH/of9z//7/pwA9/08AdADO/osAPQC4/50A/ABTANL+UAB/AGr/ZABFAM8AzP8aAAcAdf83AM7+8v/c/1r/vP/X/xkBG//s/jkBlgDg/6T/uADgAKb/SQAXAc8Ay/83/7H/wv/b/nP/mAE+ADb+e/9fAA//G//4AOMAtf83/1X//gBQANT/LgCXAPsAhP/a/w4AsAA2AYH+DwDkANz/kwB1/3//Z/+B/3cAhv+0ABoBZwDF/4X/sgD1AOv/XACX/xgAnQAuAIb/v/97AP7/Pv/L/qv/hf9L/6AAmAGo/xP/RQDk/7v/5v8cAIsA6ACt/j7/yAB0AHP/6v/lAGb/9/8xAFX/MQHUAKj+O/+MAMYAVf/c/6cA/v8k/xH/ggAPAHf/EQD8/4z/5P+oAZP/ev6mAGcBFQCD/ncALAG9/t/+awEjAMT+v//D/+r//wCeABX/GwEKARz/+f+jALj/4P+uAaj/vv5EAG0ABABa/1r/JAGgAOX+jf7W/+wBUgB6/+8AbgGp/s39LgBqACwALgGTATUANP9EAOD/Tv/W/24AHQEZ/8X+KgCm/wABIwDf/lj/7f41AMz/n/8DAWAA+f8r/qYAVAF6/5MA6wGa/wD+9f8NASP/AP9WANoA/v+Q/1gBTAHW/sv+hQAVAOb+zABAAkz/fv5bAXgA7P2n/+oCnABX/gsABgIOAN/+CQFLABIAbgDQ////ev6F/8n/pv8TAAb+ewD8ADj/UAHaAMb/pP/I/xQCqv+s/iQA+ACGAW3+Vf72AMP/sP66/4UA7/8p/6cAhwHF/rT/sQC//0sA9f9mAIX+a/8sAXf/dP9fAJ0Awv9I/7z/7v80AKEAcgCNAGQAPgBcALL/Cv/T/0QAU/9Y/2YAlwBgANMAiACa/ycAYACO/47/6/81ALcAmQDk/9b+NwBJACz/dAD1APv/Ff+f/wT/l/64AM0BYAD+/v7+MQD9/oH///9hAM8A+P8lAV7+Qf9QAScAdwDr/x4BhABw/tz/DwANAT0AFf/t/7n+mgAsAfn/vwBNAR0Awv2V/0cBOv9I/6b//v8fAN3/jwAkAB0AVgAq/y4AgQAPAQgArf5/APL/0v8gAJcADwFV/qf/bgDU/qsA5ACRAVj/r/6PAO/+oQA0AQEAcADu/+QAuv+o/gsA+wDT/47+d//hABEAFf+LAE8AVf8HAL7/GABEAIsASQCX/oX/xgBfACcAcQA0AHj/8f6j/9b/OACuAGkAUv+n/+EA4wCI/2/+yf9rAD8Ap/9wAKEAw/9J//T/9P8M/8kAPwBd/77/fAD2AD4Asf9Q/yEBgAEm/kT+6wBdAY0Az/81ACQAa/8b//D+dAAjAtAAcf8B/0f/zP/j/84BPQE0/wAAn//C/5/+1P68ASoBwf8V/+QAfgBt/pkASwBaAGsAfP/F/1P/bQA9/zP/OAEZAQsAl/6c/z0BNQBY/yYAj//7/+QASf/z/joAwQHhAD7/bgAHAGb+pv/n/wUAKQBzASQAjf1kALABp/9j/gUBrwHM/3P+zv4uAWQApP8w/x//oQBsAdMBNv6H/qgBsv9n/40A8gBY/i3+YAJ7AM/+lwD6AbAAh/1V/54AKf8PAXgB4P/o/OL+jwKB/1n/RgHEAQMBv/26/qQAhQCdAHr/iQEJAfX9tP8g/+D+of+TAP0BpP8l/ioATAFBAAr/kgDOATv/zP+TAab/rf4pAAEC8P4//XUAaQE+/xv+fAHOAVH+hv8hAVn/PQDCAJcAB/+Z/7YBL/75/9ABrf7H/rEAEAKT/879UAGNADr+p//CAO8BIv7J/TgB/ADt/1X/YwDh/8X/CgHW/9b+ZP9WABMB7v84/5cAYgFd/xv/2QDIAIT/wP6Z/+//uAAdAdD/xv/d/6v/OgAk/6f/awHMAKcARQDG/wz/JgAGAe3+kv5yAHYBagDF/mv/1AAfAGX+FgDkAHP/QQD1AbkA3/7j/kkAJQG3/pX+5QAAAvj/Af6ZAGoAEf9+AMoAMP7q/l4CFgFZ/xEBlgId/fP6pAEOAlj+of9qA0oBcfz+/l4Bgf+V/ggAygJIACr/zgFuAAD+JP6+AhQB5vwHACUCYwCN/ov/nwELADn+cP8/APIAOv+4/ycBkP8E/8H/VwFZ/8H+8QBkAX//G/5YAdMCHP8T/3EBvwB3/hf+RQFV/2D/QQJE/+D+3P9aAaAALP+CAMP+pv+cAHv/tQA+AMYAtgEP/9f9IP9ZAJ3/of8PA2IBmP0P/9L/pv/4/uX+qAHUADAA0ADq/uj/t//SAA0Bdv7a/2r/kP8KASMA8gBaAK7/oQCdAN3/UP4Z/1ABjgGGAP7+tQDUAVz/vf3u/bIAJAFi/77/Wf9pAW8ByP7u/13/hP/Q/1P/lQCu/9kAJQE6/ycAhf66/o0Aev8/AUAC8gDR/n3+sADB/04ALwEd/wz/TwFtAAH+IAC6Aev/0P+h/1v+UP/e/xMAkgB5AeoAT//xALX/rP6cAHsAXQEcAJL+j/6U/koBKgFg/67/5AB7ASb/9/5GALT/GgA2AegBKQBi/pv+Xv5YAE0CCQF7/yn/MACQAIb/J/9OAGoAhv+u/+sAGwG0/9AAjwCA/rj/8v+T/7v/agAZAG3+lv/c/0wBdQH0/j8AMQAL/0v/JgAkABgA/ABp/xP/gv+SAAQCoP9z/sD+GQBfAHf+bAEpAkL/c/43/ysBMwBj/20AEwFKAcr+qP4xAHz/iQA0AOv/sACS/wX/X/6/AKgBUP/m/4YAegC3/kf+UgB6AF0BaQDa//QA0/8S/2n/SQDnABcBZAF8AGL/cf/m/93/AgCI/+P+vgATAVD/Jv8TAOUAWP++/4ACygA4/1n/z/9CAFD/twDZ//L9uP88Aa0At/4mAO8BhP/c/gUAfP+d/08AfQFCAXX/+/6w/ub/OwCEAJABsv8H/6D/+/4C/0UAnQEaAEP+JwBQAMv+k/8WAaAAqf7kAIIAW/6cAHQAvv8P/1D/3QC+AAgAoP/tAJIAMf/R/jf+IACzAvkB7v8w/2kAkv/E/vkAZwA6ALQAT/9H/yMAigFjALD/2v+L/oIApgBl/nv/NgGeAGkAlwH3/0T+DP/W/gT+OQJABJkAJgCZ/6r+gv/L/o7/awBjAIIANQD4/x7+S/6AAZAAg/6Q/2sAXP+3/iECxgFV/5YAgf9+/4n/rgDfAcH/2QAMAOf/VQDI/gIAhv+8AAcAyP67AJ0AzQBP/1P/ZACo/3H/y/5CAFgBdACh/07/kwCdAJf/8P6G/+oAOv90/l//ZgDrAVUAcf83AK0AcgCL/sr+Kf+1//4AqwCuAGYANAA//zD/jAEqAUEA6/8B//v+IP8MAM7+1P5DAbgBAwF3/5kAjwBu/+7/Kf+B/8L/ewHvAav/8f8AAJP/Uv/C/5YAHwDnACABc/+j/sP/JwECAGT/yQB4AJn/Ef9a/7v/qv9PAOH/oP8WAJIALQCK/t7/wgDo/zgAcgAdACn/CAApAED+CP/MAIIADgDFACEBgv8f/9kAagAL/z3/rQDTAI//TwCeAJf//v/UAD4ATP+BAEoBxf+G/zAAVgDo/z8AZACI/nz+yP80AL7/8f98AcUAAABmAJz/2P4SAG4B7//j/tf/u/9i/yQA4QC+/8X+SQCIALf/MQDuAOMAuP+L/2r/n/6m/+AArgAK/9n+nACSAGMAt//v/4wA2f9gAAIA3v8wAGkAMwB3/wcAmf/W/kj/LQDQ/5P/pwBfAGAAcQBz/2P/5v9FANr/YP8TAPsApwBt/+D/QgE/AH7++v7IAOUAkv89/yIA+ADlAD0AQgDhAG4AUv8p/9f/GgCL/1L/bQDWAPT/eP/5/3gA0P/C/2cAz//u/zwBSgHy/yYAYAFYALH+2/7N/2f/yv4j/7D/hQBJAMP/9/9hAKEAuv/U/tn+pP/KANQAHAAz/3X/+wBwAIT/vADiAQABgv/U/x0Af//S/ln/twBOAJ3/cgAFAar/2/5LAAABp/8V/7T/0v/S/xkAcQBcAKAAdwDL/0kADAHBAMP/4/9OAFL//v57/0H/5v5u/x8An//X/xsB5ABrAJcA/v8g/0z/hv+L/8b/pP8FAJwA3QBGAe8ALQB3/wr/9P6s/kH/AQDW/20A+wDPAHEAJAAVAKP/dP91/3//7f93/5z/iADPABABQwF9AckA9f+j/6/+/v6P/+P/NwAPAOMAXQHdAEYA6v9rALf/rf5I/77/DgDL/y0AuwC7/zv/jP/m/3f/j/8KAecAtf8u/y4AEQH4/8b/hAC1ANn/rP7s/q7/bQB7AD8AlwAiAO//8f+T/3j/+P+1APz/Vv+o/2T/Bf9S/w4ABwDq/78AwwDM/8v/vgDGAIL/+P7U/z0AtP+f/yQAjQB6AOP/T/9d/yoAbQAzAHsA7QBkAJD/kP+q/w8AoAByAMH/nf8jAOr/sv/SAIABdABm//X/BAAZ/0T/DABgAPz/bQC0ALf/av+y/04ADwDa/4YAUABd//D+LgD5AA8AzP8uAE4Aq/9w/wUAMQA4ALz/j/97/6r/rgC+AIYALACw/47/9v5i/y0AlQBxAOr/dwB8AOb/t/8SAMoAfgDa/5X/cf+a/4j/EQDN/13/oADCABUA/P9fAHEAoP8SAAEAJ/90/w4AdQBZ/7z/NAEZAIn/ZACjAF//Y/82AaEA2v8ZANL/sP+h/83/Pf+K/sv/xgAkAFX/xf+4AKT/av/TAKcAGgA3ALUAUwBf//v/z/8O/+X+av9GADQAoABdAC0AvwAkAOH/nAC6ASEBmf8FABoAOP/b/lb/3v9//8j/vgARATAASf8dAJoAxf9r/8//qv9a/4IA+QBYAFAAOwApAPL/a/+f/j7/7QCJAK7/gf+o/7UAPwG4AL7/7v/CAAgAKv++/iT/t//F/38Av/8i/60AsgGdAHn+af/IAKr/tP8TAEgAAADU/8MA2f+B/z8A3f9+/+7/rAHuACb/HwAWAAf/mP6I/xUATv94ABcBuwCjADMAYQACAN3/w/91/yoAjP8c/53/GgACAW0ACABdADcAAQDC/xMAeACTADcAMf9a////l/8n/yT/n//I/zb/pv+uAEUA+P/kANQBAAGy/6D/sP9q/y3/yf+xAL4AnQBjALf/qP+rAJgBrgDW/+T/w/9B/77+Qv9z/27/3f/4/zUAsgAsAQABGgAPACAA2P4K/jH/iwBtAK4AZQHZACYA3P98/yz/zv4x/5X/zf9wAFAARQByAOAAsQDP/x0AMwDN/8//o//C/8X/4f8qAKv/wv+mADEB7QAmAJD/RP96/yT/hf7s/u//+ADDABgAqgACAYUA7/8RAFYAsf8j/zv/o//k/+7/SQBmAJAAsgBmAMgAEQE/AA//x/7B/9f/Nv/X/64APwBu//f/5ACFAKT/Nv/C/40AsP/4/vX/eAA1AJr/9v4R/xkACgEkABgApAHWALT+/v4zAPH/5/9kAP//1/8BANr/9f+aAPIApP/S/mr/u//k/27/1/+xAE4A3P+g/ywAfwB+ANoAGgAEAFoArf9//xkA9ACcAMj/iP++/1IAQQAtAHwAsgC7AAcAmf+G/23/6P/t/97//P+c/7z/LQCBAF0AUACJALv/N//F/6f/5f4Z/1oADAC2/oT/cQARAF0A1wHpATsA1/8MAJn/H//W/hn/cf/g/zcAHQC8ADIBZABd/5n/mQD8//7+/P9TAacAO/9i/+D/Lv87/1YAiQDQ/wcAIAG1AJ3/6//kAKQAi//1/z0BNgEAADf/n/94/8T+7f58/wUAygA9AaEAnQB4AVwAlP57/9QAjP+B/hgA4wDJ/3//JADS/zf/av/M/1wAmQDC/27//ACKAbf/w/70/2MA5/5I/qv/lgA6AO//HwDM/1n/GADWAEIA3f/NACABDwDD/+f/d/++/xYAH/8//sf+2v+aADwBXQEGAUYBaAHGACAAo/8+//3+ov6U/l3/9P9r/6T/IQH+ALf/e/8aAHUATwCnALkAJgBaABcB6ACI/yP/u//L/vr9NP8RAJf/YwAAAn8BuQBJARQBnf96/p/+Yv8JAAcAsv9MAOMASwBx/53/jABYAAT/uv4kAMEA5//Q/38ApwAEALD/hP8+/6b/IwDg/6b/EwBgAO7/5P/IAMEAXP/9/pIARgEtAKf/WABaAAgAOADe/0f/nf8aAIj/Fv9q/3//hf9gAM0AVgBrAEUBVgF3ABMAJgACAHz/I/9g/+D/DgDg/7r/IgBpABMA6P9TAO3/X/6S/nEAIAHP/yr/NAA8AUoBoQDk/4X/wf/t/wkAfv8K/9r/zADFABEApP/G/xMAAAAf/xb/uwAAAeT/w/+8AAUBewC0/3D+Lf6w/3QAoP8dAAcCdwL/ACIAjwByAEz/sP6z/pz+x/5j/wgAhQAXAcwAIwCTANwAPv8s/hIAcQH5//r+IgAeAcUAWADd/wT/Hf8FAB0AjP/x/9AAfAB7/y7/bf9+/wcAuwACAO/+l//DABYAZP91AOcA7/9I/2f/+f+PAAsACP9//+0AAAG3//7+mf+XAIgApv9c/yMAqAAcAOH/NQBpAHEAEwB4/6v/cAAHAGT/OADhAPz/pv87AZ0B0/9j/48AuwCy/+r+2f7Y/mr/MwDL/4z/3QDQAWcALP9WAE0BHwCz/gD/KQCXAD8A6v8TAD0Auv+E/4j/rv9xABsBxgBcAJUAKQBd/8v+EP5c/t7/IACP/5MA1QHeAMb/hQDSAKT/yv7Y/tv+Ev+4/xgASADSAIsAUv9p/5wAggCx/3AASQHyAIEAAABQ/zr/n/87/9z+k/8wAD0ALgA6AJcA2gB+AMn/4P/BAEUBuwC8/7X/hABWANb+b/4pAGsBUAAP/93/HQHPANz/y/8YALr/eP8YAIEASwBWAJIANACQ/6f/5v93/wL/Pf/S/w8Aof9g/+3/ZABqAFoAMwCT/xH/kv91AI8ACQACAGkAKQCq/93/PwDq/1X/of+7AH0BjQDm/n3+Mf/G/5//kP/m/8v/w/9rAPUAkwD+/0EAwgAJAJv+tP6JAC8CEAK0AJb/fv9LAMwAWACP/w7/Gf93/7z/BwB6AH8AAQDZ/1IAhQD+/4b/9f+4AHgAuv9+/3H/cP8JADgAVf8O/4//yf8kANkA7gBgAEQAOgC8/+P/sQBnAAX/1f7Z/xEAWv8L/5P/IABEAAwA6P+aALIBYAHd/2f/+f/g/5n/RgB/AGD/Cv9pAAMBIgDh/2MAAgBr/zgA3AC3/7f+rf+CAL7/dP8/AFwAu/9L//7+N/97ADkBbQC4/x8AFgErAUsAxf8YAJ4ACwD9/sf+Xf8xAH4AHwCW/2v/vv+VACoBYABc/2r/zf8HAJwA3AD5/xj/Z/8sAGQABADU/wwAPQD5/5f//v/IAM8AZwBOAPf/N/8p/7v/iP/3/un+HP9x/zcAtABrAH4AtQARAKP/mgB/AcYAmf96/6f/oP/5/yYA1P/j/z8A7v/5/zwBngHDAHwAqwBFANT/SQBxAGL/Zv6Z/hz/Uv/n/zcAwv/h//EALgFrAFkAiQDx/+T/yQB1AAH/3P67/2b/lf4d/xEAyf/0/vv+zf/dAGcBCgGFAGAAHwCc/6H/PgAMADb/SP/d/+P/DgCoAFMAwf8qAHQAlv8M/8v/NADC/6P/JwB7AHEAeABxAHIApgBgAG7/0f7+/p3/TABMANn/IwD1ANkAv/9f/2sAIAE+AFn/mf/d/3j/S//L/18AfwA0ANn/af8x/5f/9//3/wUAFgAjAJIA1gA/APj/oAC0AO3/4f+0AKEAdP8V/4//yf/M/+r/EQD//ycAmQBMAFj/lf/XAMUAq/+S/z4AdQBnAHEAHwDS/wcA+f+h/5//mf9t/6H/GQAZAMn/zP8nAIQAwwDZALwAiABjACkAjv9J/+P/DABS/+L+GP/+/rv+fP9fACcAGgAFAUIBbgABACkATwB4AFkAtf86/3r/w/+P/3H/sf/B/6r/GQCjAF0A3f8SAEQAy/9r/7r/OABhABUAkP9c/8v/IACT/yD/8f/lAL4AiADjALwAOgCoADgBnAAHAEIACwBS/2L/zf9n/+3+hv8nAN7/0/8dAPT/9f9pAKQAlwCqAN4AmgDm/5f/2f/X/3H/H//Z/iD/GgB3AML/rv+QAK0Ay/9f/7H/+P8TAAkAuv+x/zgAXQARAP//MQCJAMoAoAARAO7/iwDCAO3/NP93/5P/Bf8I/7H/6v+q/9f/LgAxAIQADQHFAAwAOwDSAIsAuP9m/9z/TADu/1//mf8IANb/S/8i/4H/wf+a/6b/FgBSADAASQCGAGEA5/+Z/8L/7f/t////SACFAGAAIgAPAPn/+/9SAJMAfgBaADQA6P+8/9D/y/+O/2f/oP/v//T/9P8pAF0AdQCQAKcApgCEAFAAIwDh/5z/nP+0/27/Jv9+/zgAagD3//L/iQDCAH4AYwBrAEYA+/+T/1L/Z/9p/y7/Ov94/4T/wv96ANwAfAAwAHQAqABnABkACwDy/4H/Lf9I/3D/gv+n/9z/7f/a//v/egDvAMIASQA4AEIA2f9x/4b/tP/C//T/FgD5//f/PgCIAJwAqACkAGoAPgAuAAgA7f/7//v/q/9O/1D/jv+g/6j/2f/8/wIAHQAzABoAAgACAM//hv+u//H/v/9w/6D/+//5//f/MABMADcAOwBfAHIAlwC8ALEAkgB3AEIA+//d/9D/p/+O/4//f/+B/7f/8v8PADUAawBqAC4AEwAxAEUAPwA1AAkA0P/S//j/BwATADEAPwBCAEwASQA/AFAAUgAmAAQA9P/C/4n/jP+j/4T/ZP+g/+P/3f+6/7H/u//d/xEADADq/wEAHADW/6H/5/8iAAkABwAgAPn/0P/y/w4ACQAqAGYAdwB1AIEAdwBhAGkAYQAuAAcA+//a/5z/d/+G/6P/qP+8/+//BwD0//T/CQAPABIAHAAcAAsA9//W/6r/i/+M/53/t//g//L/6v/1/yIAMQAYABIAMAAsAAAA6P/q/97/xf/B/8b/yP/Z//7/FgAZABMAHwBBAHcAkgCFAIsAnQB7ADMAGAAjABIA7//r/+H/wf+3/9f/AAAWADgAXQBkAFkAVgBZAEwAMQAPAOP/sv+d/6b/sf/B/83/1P/X/+T/9f/4////GgAkAAwAAgALAPj/5P/1/wIA9f/5/xYAGAACAAgAGgAPAAUAIgBCAFYAawBkAD0AGAAEAPL/5//t/+7/2v/J/8z/xf/B/9n/9f8FAAgAEgAqADsAOAAwACAAAQDq/97/z/+u/4j/dP90/3//jv+g/8P/6//u/9n/2f/o/+f/1P/P/9P/z/++/7f/vv/I/83/yf/W//T/BwACABYARgBfAFkAVQBcAFwASQA1ACQAAQD1/wwAFQAAAPT/AAAHAAcADwApAD0AOgA0AC0ALAAwADEAKgAiABwAEQAIAAQABAAMABIADgACAAIADgAcABwAGgAgACkAKgAcABYAGQAcABIAAgD8/wgAGAAWABEABwD3/+//6//k/+b/6v/v/+v/3v/c/+r/9//3//f/9//y/+v/7f/o/+H/5//o/9b/uv+1/8P/zf/Q/8z/w//F/8//0//X/+P/9P/1/+7/+P8IABEAGAAdABkAFgAaACIAJgAiAB0AHAAYAA8ACQAVACQAJAAVAAsABwAOABkAIAAsADoAQgBIAEkASwBOAEkAQQAtABIAAgAFAAgA9P/T/7v/uP+8/7//wv/L/9n/4f/m/+7/+P8AAAAA/P/3/+7/6P/c/8z/xf/I/8n/zP/d/+//AQASACAAKQAuADEAKQAnACcAHAAMAAUA///1/+//8f/x//H//P8IAAsACAASACMALQAtACkAKQAtACoAIwAaAA8A///t/+H/4//t//n/BQAMAAsA///1/+f/2v/a/9r/1v/S/83/yP+7/63/pP+f/5n/l/+h/7X/xv/c/+v/7v/3/wUAFQAfACcAKgAkABkAFQAcACIAJAAiABkADAAAAAAABQAOABoAJwAxADcAOwA/AEYATABLAEIAMAAZAAsABQACAAAA/P/8//j/9P/0//T/+P/4//L/6v/q//X/CAAYACMALAAxADAALAAkABoAEwAOAAkAAgD///v//v8IAAwACAAJAA8AGQAcABkAFQAWABUADgD//+//6//q/+f/4P/d/+H/4//k/+f/6P/m/+D/3f/c/9z/2v/X/9P/z//J/8X/wf/C/83/2v/j/+f/7//3//7/BQAMABoAJAAkACIAJgAsAC0AKQAdABYADgAFAAAA//8CAAQAAAD4//L/8f/n/9f/yf/F/8X/vP+y/7D/sv+0/7f/vP/D/83/3P/o//f/BAAOABoAJAAxADsARgBTAFkAWABTAE8ASwBLAEkARgBCADoALAAiAB0AIAAnAC0AMQA3ADgAMAAnACYAJwAnAB8AFgAJAPn/6v/g/97/2f/N/8P/v/+8/7X/sP+t/63/rf+q/6v/rv+1/7//wv/G/9T/8f8FABUAJAAxAD0ARQBJAEwATwBOAEgAPgA1ADAALAApACcAJwAtACwAJwAmACIAIgApACYAHAAYABgAFQASAA8ABADy/+b/3f/W/8v/vP+6/7j/rv+o/6r/qv+n/6T/p/+q/7H/v//M/9T/2v/e/+P/5P/g/93/2v/W/9T/2f/d/+H/7f/8/w4AGAAdACYAMQA6AD0ASABMAEsATABPAFAAUABQAEYAPgA4ADcAOAA3ADUAMwAtACMAIAAgAB0AGgARAAgAAAD5/+3/3P/S/8n/t/+n/6b/q/+0/7j/v//M/9D/0v/S/8//yP/C/77/uP+6/7//zP/Z/+P/8f8AAA8AGgAnADUAPwBJAFUAYABnAGcAZABdAE8AUABgAHoAlQCmAKsApwCcAJMAjwCCAHEAWAA7ACMADgD4/+D/0P/I/8P/yf/U/+b/9f///wUABQABAPv/9f/u/+b/4f/h/+D/3v/Z/9b/1v/W/9T/0v/P/8j/wv/D/8P/vv++/8P/wv+6/7X/tf+y/7H/t/+8/7z/u/+3/7T/sf+t/63/qv+k/6P/qP+u/6v/qP+o/7L/t/+8/8v/3P/k/+v/7//1//z/AgALABIAGQAcACMALAAxADUAPgBJAFUAYABpAHEAdQB3AHIAbgBrAGoAbQBxAHEAagBgAFYATgBIAEkATwBQAEsASwBQAE8ASQBJAFAASAA7ADoAOgA6ADgAMAAnACQAHQARAA4ACwAIAAgABwACAPv/9f/r/9z/y/+7/7D/of+V/4//i/+I/4X/iP+L/4v/jv+Q/5n/pv+r/7H/uP+w/5z/jP+G/4//nf+j/5L/ZP8x/xn/Kf9Z/5r/4f8aADsAPgA6ADsAOgA+AEYAUgBhAH8AqwDaAAMBLgFQAV0BXQFbAVgBSgE4ASUBEAH7AOQAzACwAJkAgQBnAFgAUAA/ACAABADm/8L/mf9w/1L/Pv8w/yP/Fv8O/wz/DP8L/wT/+/73/vv+Af8C/wL/AP/7/v3+B/8R/xb/Iv8q/zP/Ov86/zP/OP9E/0z/Xf93/4//n/+x/9L/9f8TACoARABaAG0AfgCLAI8AjACGAIIAeABpAGQAawBqAFwAUgBWAFgAWQBhAG0AcABtAG4AcABxAHUAfAB/AIEAiACSAJcAngCkAKcArgCyALEAtAC7AMMAvACjAIQAZABEACYAEQD+/+v/3f/Z/9f/0//P/9D/0P/J/8X/zP/M/8b/yf/S/9n/3P/h/+j/7f/t/+r/7f/v/+7/6P/k/9r/0P/G/8L/vP+6/7z/wv/D/8L/w//F/8L/uP+x/7H/sv+t/6r/q/+o/6P/mv+X/5b/kv+G/3v/dP91/4j/rf/a////GQAwAD4ASwBYAGAAZABcAFUATgBFAD0APwBPAGYAhgCnAK4AjABIAOv/hv9B/yn/OP9f/5L/vv/Q/83/yP/M/+T/DgBPAI8AvwDoABcBOQE7AS8BHQH8AN4A0gDIAK4AkwB4AE8AJgALAPf/3P/D/63/k/94/2L/Vf9L/0X/Sf9M/0//R/8+/0T/T/9S/1j/Zv9//5n/rf/D/9z/9P8HAA8AHAAjAB0ADwAAAPX/6//m/+H/4//k/97/2v/Z/9f/2f/Z/+D/6P/v//f//P/+//X/7v/r/+j/6v/u//H/6//r//X/+f/1//T/+/8BAAkADwALAAcADAAWABoAHAAnADsARQBFAEYASQBQAFMAWQBaAGEAaQBmAFwATgBCADoALAARAAAA+f/5//n/8v/o/+D/3f/c/93/3f/Z/9r/4P/n/+r/8f/+/wQADgAYAB0AHwAcABwAGQAaACAAIwAmACoALgAxAD0ASwBWAFwAWQBcAFwAXwBpAHIAcQBuAGcAXwBTAE8AVQBYAFUATwBJAEEALQAdAAwA+P/n/93/1P/L/8b/v/+t/53/lv+Q/4//lv+a/4n/c/9r/2r/a/94/4v/lv+Z/6b/u//G/8z/3P/v//j/+//7/wIADAAMAA8AFQASAAQA/v8BAP7/+P/4/wAABwAVACcALgA3AEUATgBGADQAHwALAPT/1P++/7D/nf+F/3X/dP91/3j/hP+P/6D/rf+w/7H/vP/N/9n/1//W/93/4//o/+3/9f8BABMAJAAuADcANAAsACAAFQARABIAGQAkACkAKgA0ADsAOgA3ADcAOgBBAEgAUABVAFoAZwBxAGoAXABYAFYAUgBIAEEAOAAuACoALQA3AEQARgBFAEUAPQA0ACoAHwAVABYAGQARAAUABQAMAAgAAAD3/+3/4f/S/8j/xv/F/7//vP++/7j/sv+w/6r/mf+Q/4v/gv96/3f/e/9+/3v/gv+S/5//pv+w/7f/uv++/7//u/+//8v/0P/M/8//2f/g/+D/3v/j/+7/+f/8//7/BQARABYAGQAdACMALQA1ADoAPgBFAFMAVgBPAFAAVgBVAE8ATABLAEEANQAsACMAGgAWABMAEQAMABEAHwAxAEUAXQByAIkAqgDGANoA7gACARQBIQEkASMBJAElARoBAwHoAMoAsACPAG0ATAAwABkABADv/9n/xf+6/6b/hf9m/1j/Tv82/xn/CP/6/vD+5f7d/tz+4P7t/vj+Av8K/xj/LP89/0n/Wf9x/4T/jP+Z/6j/tf+7/8L/0//e/+H/6P/7/wkAEgAcACIAHwAdACAAIAAaABYAHAAjACcAKQAtADQAOAA1ADAAKgAiABoAGQAYABIADAAIAAgACAALAAsA+//h/83/xf/G/8v/1P/g/+7//v8IABUAIgAqADMAPgBIAEYARgBIAFAAWABVAFkAXQBgAGQAZABhAGYAbgB1AHIAbgBtAGkAZABZAE4ARQA6ACwAHwAWABEABwD///z/9//0//f/+f/8/wAAAQAAAAEABQAOABMADgALAA4ADgAJAAcABwAFAAUABQAAAPz//v8AAPv/5P/N/8H/t/+r/6j/sP+3/7z/xv/Q/9r/5P/t//T/+P/7//v/AQALAAwACwAIAAIA/v/4//j/+f/7//7/AQAFAAIA9f/h/8v/vv+3/6v/pv+u/7z/vP+//9D/3v/o//j/CAAMAAwACwALAAIA//////z/+////wkAEgAVACAAKQAxAD8AUgBfAGoAcAB0AHwAgQCBAHgAdQB4AHUAbgBmAF8AWgBYAFIARgAzACQAFgALAP//8f/t/+f/3v/W/83/yf/J/8b/xf+//7f/sf+y/7H/sP+y/7j/v/++/7//yP/P/9n/6P/y//H/7v/0//j/+f/5//X/9P/1//X/9f/t/+H/1v/P/8X/t/+w/7T/t/+0/7X/vP/F/8v/0//j//H/+f8AABMAJgApACwANAA1AC4AIwATAA8AEwAVABIADgAVAB0ALgBEAFoAdACGAH8AYQA+ACMACADk/8L/q/+Z/47/hf+B/3//i/+X/6T/sP+6/8P/xv/F/8P/y//a/+v/9/8CABoANQBFAE4AWgBqAHEAdAB+AIUAeABjAFgATAA+ADEAJAAjAB8AEwALAAcACwATABYAFgAWABUAEQAJAAwAEQAZACkAMAAtADMAQgBOAFMAUwBYAGMAcgB6AHQAbQBmAFUAOwAqACQAJwAwADoARABOAFMAPwAgAA8ABwDj/6D/af9I/yz/DP/v/tv+0v7K/sT+xf7M/t3+8/4L/yD/Ov9Y/3j/of/F/93/9P8MABwAIwAqAC0ANQBBAEUARgBJAEsATgBTAFoAYwB3AI8AoACoAKsAqAChAJcAiQBxAFgARQAuABEA9f/k/+H/5P/h/+j/9P///wAA9P/3/wEADAAVAB0AJAAtADAAKgAdABIADgAEAPL/3v/N/7j/pv+W/4j/ev9t/2D/Tv89/zT/Lv8p/y7/NP86/0j/Xf9x/4H/kP+j/77/1v/n//j/DAAkADgASABZAG4AfACIAI8AkACVAKAAqgCkAKAApgCwAK0AngCaAJ0AoAChAJ4AnACaAJwAlQCPAI8AkACIAHgAagBhAF0AWQBMAEEAPQA7AC4AGgALAAEA/P/y/+r/4f/W/8z/w/+0/6D/kv+L/3z/dP93/4H/jP+S/5f/o/+w/7r/vP+6/7//z//d/+P/4f/e/97/5P/x//v/AgAOABUAGQAfACkAMwA/AFIAXwBOABoA7f/X/8j/t/+7/8P/vv+1/7X/v//B/8P/zf/X/9D/xf+//7f/rv+n/6H/nP+W/5n/qP+4/8n/2v/n//H//v8OABwAKgAzADAAMQAzADQAOAA4ADMAKgAnACcAHAAWAB8AJwAqACwAKQAkACYAIwAaABEADwAVABwAIgAkABgA+//U/7L/kv9z/2b/av9w/3T/fv+O/6D/sf/I/+H/9f8FABkANQBTAHgAoADKAPIADQEdAS4BPQFGAU8BVwFhAW8BfAF2AWQBWgFPATUBEwH5AOQAwQCWAHUAXQA9ABUA+P/j/8j/qv+V/4//kP+a/6f/tP+8/7v/qv+T/37/cP9m/2L/X/9Y/0z/Pv84/zH/Jv8Y/xP/Dv/9/vD+7P7q/uP+2f7S/tH+1v7c/t/+5f70/gL/C/8T/yD/MP9C/1P/YP9u/3r/gv+G/4z/lv+h/6P/pP+k/6P/nP+g/63/tP+u/67/t//B/8P/yP/S/9r/5P/3/wQAEgAgADMASwBcAGcAdQCLAJwApwCyAMUA0gDXAOAA5wDuAPwADQEXAR0BIwElASgBJwEgARQBBgH5APEA5QDcANQAyAC7ALQArgCnAKMAoACgAKEAngCWAI8AjACGAIEAewB3AHAAZwBdAFoAWgBVAE8ATwBQAEkAOwAsABwAEQACAPX/7//y//v/BQAOAB0ANABGAFIAWQBnAHEAeAB+AHoAZABLADQAGgD//+j/0/+1/5P/ev9g/0j/Lv8b/wf/8P7f/tL+xP62/qr+o/6e/qD+sP7E/tb+7P4C/xb/JP8u/zj/RP9P/1r/ZP9w/3v/gf+G/5P/of+r/7X/vv/D/8X/xf/D/7H/k/93/2n/ZP9t/3z/jP+c/6v/v//a//f/FgA+AFAAVQBaAGoAegCMAK0AzwDqAP4AGQEuATwBSgFbAWIBWAFKAT8BLwEUAfEAyQCZAGYALQD1/8X/nf+C/27/Yv9f/1//YP9k/2b/cf9//4z/nP+t/8v/9P8ZADEASABqAI0AqwDDANcA7gD4APgA9gD5AP4A+wDvANwAzADBAK4AlwCEAHEAXwBOAEgARAA4ACkAHQAVAA4AAgD1/+b/1//I/7r/rf+g/5b/i/9//3j/a/9a/07/Qv86/zf/Mf8q/y7/Ov9E/0n/T/9d/2v/d/+B/4//pv+x/7r/xf/S/93/6P/3/wIADwAWAB0AJgAsADEAMwA3AD4AQQBBAD8AOAAtACAACADr/8v/of97/1r/Ov8i/xb/D/8V/yL/MP9C/1j/cf+J/6D/vP/g/wAAIwBCAFwAeACVAKsAvwDUAOgA+AACAQoBFAEZARYBFAEPAQYBAwEAAfkA6ADSALkAoQCQAH4AagBWAEIAMQAdAAsA+//o/9P/vv+t/5z/i/9+/3H/X/9T/0z/S/9I/0L/Qv9J/1X/WP9c/2b/cf96/3v/f/+F/4b/gv96/3j/df91/3f/df90/3T/eP98/4X/lf+q/8H/1//0/w8AKQA+AFUAagB7AIEAhQCMAI8AkACWAJwAkwCIAHwAagBTAD8AMAAYAPf/0v+1/5//jv+E/3r/bv9g/1j/Vv9Z/2L/d/+I/5P/pv/F/+H/7//7/wcAFgAnADoASQBfAHwAlwCoALEAtwC5ALUApACPAHsAbQBdAEkAOAAuACcAGgAOAAUA/P/y/+T/1//Q/9L/3f/m/+///v8LABUAGAAYABYAFQAdACAAHAAZAB0AIAAcABkAFgAWABIADgAJAAkACwAIAAUAAQAFABwAQQBZAFAAOwAtACIAEgD+/+r/3P/M/7z/rv+k/5z/kv+G/3//e/90/23/av9x/3r/hf+V/6P/sv/D/9L/4f/1/wcAFgAtAD0AQQBBAEYAUgBdAGsAdwB/AIQAiACGAIIAgQCBAHwAcgBnAF8AVgBQAEYAQQA7ADEAJAAZAAwA+f/o/+f/5P/e/9f/0//N/8X/xf/L/8z/xv/G/8v/0//g/+j/6v/q/+//8f/y//T/9P/v/+v/7//1/+3/4//d/9n/z//F/8P/wv+//7j/q/+k/6b/pv+j/5//mf+S/5D/k/+T/5L/j/+L/4b/iP+I/4z/lv+c/5//p/+7/8v/1P/j/+///v8OAB8ALAA0AEQAUABVAGEAbgB8AIsAlwChAKcAqgCmAKAAnQCXAIwAggB3AGkAWgBOADsALQAmAB8AGQAdACIAIAAYABMAGAAYAA4ABQABAP//+//x/+j/3f/Z/9f/0//L/8P/xf/G/8H/uP+1/7L/tP+3/7j/u/+3/7H/tP+8/8L/zP/h/+3/8v///xEAHwAnAC0ANQA+AEUATgBOAEkASQBPAFYAVQBQAE8ATwBLAEYARAA+ADcAMAApABoADwAPABEAEQAOAA8AEQAMAAkADwAfADEAOwBCAEkATgBSAFMATgBCADAAFQD3/9b/uP+h/5P/k/+f/6v/uv/Q/+r///8PABoAIwApACoAJgAfABYADgAEAPj/9P/y/+//7v/v/+//7//y//L/6//g/9P/yP+0/5//jP9+/23/XP9P/0v/T/9Y/2T/e/+X/7D/xf/e//n/CQAPABgAGgAWABoAHwAdABUACwAAAPX/7f/o/+f/5P/g/93/2v/X/9f/2v/c/9n/1v/U/9D/yf/D/8L/vv+4/7X/rv+w/7X/sv+t/6v/rf+t/7H/tf+6/8L/0v/d/+j/9f8EAA4AHAApADMAOgA7ADsAOAA0AC4AKgAtAC4AMwA+AFAAXQBrAHcAfgB+AHoAegB6AHsAfAB6AHwAiACNAI8AjACMAIwAhgB4AGoAYQBZAFUAUwBVAFMAUwBYAFUATgBJAEkARQA9ADsAOwA6ADoAOgA9AD0APwA+ADcAMwAwACoAIAAYAAsA9f/h/8//wf+y/6P/lf+F/3D/Wf9I/zj/MP8m/xX/Cv8C//j+9v74/gH/Cv8P/xb/H/8q/zf/Rf9S/1//cf9+/4n/l/+n/7L/u//C/8j/z//X/97/5//u//X/AQAJABUAIAAxAEgAXwB0AIgAlgCjALAAtAC0ALgAuQC4ALUArQCnAKMAoACXAIsAiACMAJIAlwCcAJ4AngCaAJAAfgByAGoAaQBpAGkAawBuAGYAUgA/ACwAFgAEAPX/6v/h/+P/5//n/+r/8f/1//j/+//5//L/9P/8/wEACAAZACkAKgAqACwAJwAZAAQA7//d/8v/tf+g/4//f/9w/2L/Tv82/yL/Fv8P/wr/Bf8I/w7/GP8n/zr/S/9Y/2b/gf+g/7f/yf/c/+T/4//e/9r/0v/N/9L/2f/d/97/5v/r/+v/7v/1//n/AAAMABYAGQAdACMAJwAuADsATABcAG4AfACCAIYAjQCPAI0AkgCZAJkAkACFAHsAdABqAFwATwBCADQAIgATAAgAAgD5/+v/1//J/77/uP+8/8v/3f/m/9z/t/+J/3D/bf9z/4j/qv/M/+r/BQAjAD0AWAB4AJUAqwDJAOAA7wACARcBKgE0ATQBJQEXAQgB8gDeAM8AwQCyAKcAmQCGAHAAVQA4ABMA8v/X/77/pP+G/2n/SP8m/wf/7/7g/tL+x/67/q3+ov6c/qD+o/6g/pz+n/6f/pv+nP6j/rD+w/7W/uz+BP8k/07/d/+h/83/+P8cAD0AYwCSAMYA/gA2AW4BlwGsAbYBuAGrAZgBigF7AWQBTQE0ARkB+wDjAM0AwgC3AJ0AcgA/AAQAxf+Q/2P/NP8R//v+4v7E/rH+rf6z/rn+vv7O/uz+DP8q/0X/YP97/5L/of+t/77/0P/j//f/BwAVACIALgA7AEgAWQBwAIEAkACeAKgArgCyALgAuACrAJ0AjwB4AGQAUgA/ADQALgAsACoALAAxADMAMwAzADcAOAA7AEEAPQAxACYAGgARAAwADgAMAA8AGAAgACIAJgAxADsAPwBEAEsAVQBgAGkAbQBxAHgAegB+AIIAiQCWAA==\" type=\"audio/wav\" />\n",
              "                    Your browser does not support the audio element.\n",
              "                </audio>\n",
              "              "
            ],
            "text/plain": [
              "<IPython.lib.display.Audio object>"
            ]
          },
          "metadata": {},
          "output_type": "display_data"
        }
      ],
      "source": [
        "for waveform, label in waveform_ds.take(1):\n",
        "    print(\"wave\")\n",
        "    print(len(waveform))\n",
        "    label = label.numpy().decode('utf-8')\n",
        "    mfcc_arm=get_cmsis_mfcc_full(waveform)\n",
        "\n",
        "print('Label:', label)\n",
        "print('Waveform shape:', waveform.shape)\n",
        "print(\"MFCC shape\",mfcc_arm.shape)\n",
        "print('Audio playback')\n",
        "display.display(display.Audio(waveform, rate=16000))"
      ]
    },
    {
      "cell_type": "code",
      "execution_count": null,
      "metadata": {
        "colab": {
          "base_uri": "https://localhost:8080/",
          "height": 110
        },
        "id": "cvmnVCytDD6r",
        "outputId": "e5750195-f488-4669-8dd8-85220460c88b",
        "scrolled": true
      },
      "outputs": [
        {
          "name": "stdout",
          "output_type": "stream",
          "text": [
            "augment waveform shape (16000,)\n",
            "Augmented shape (16000,)\n"
          ]
        },
        {
          "data": {
            "text/html": [
              "\n",
              "                <audio  controls=\"controls\" >\n",
              "                    <source src=\"data:audio/wav;base64,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\" type=\"audio/wav\" />\n",
              "                    Your browser does not support the audio element.\n",
              "                </audio>\n",
              "              "
            ],
            "text/plain": [
              "<IPython.lib.display.Audio object>"
            ]
          },
          "metadata": {},
          "output_type": "display_data"
        }
      ],
      "source": [
        "aug_waveform=tf_augment_wave(waveform)\n",
        "display.display(display.Audio(aug_waveform, rate=16000))"
      ]
    },
    {
      "cell_type": "markdown",
      "metadata": {
        "id": "xnSuqyxJ1isF"
      },
      "source": [
        "## Plot the Spectrogram"
      ]
    },
    {
      "cell_type": "code",
      "execution_count": null,
      "metadata": {
        "execution": {
          "iopub.execute_input": "2022-01-26T08:04:52.422463Z",
          "iopub.status.busy": "2022-01-26T08:04:52.421877Z",
          "iopub.status.idle": "2022-01-26T08:04:52.423570Z",
          "shell.execute_reply": "2022-01-26T08:04:52.423981Z"
        },
        "id": "e62jzb36-Jog"
      },
      "outputs": [],
      "source": [
        "def plot_spectrogram(spectrogram, ax):\n",
        "    if len(spectrogram.shape) > 2:\n",
        "        assert len(spectrogram.shape) == 3\n",
        "        print(\"before squeeze\",spectrogram.shape)\n",
        "        spectrogram = np.squeeze(spectrogram, axis=-1)\n",
        "        print(\"after squeeze\",spectrogram.shape)\n",
        "\n",
        "    # Convert the frequencies to log scale and transpose, so that the time is\n",
        "    # represented on the x-axis (columns).\n",
        "    # Add an epsilon to avoid taking a log of zero.\n",
        "    log_spec =(spectrogram.T + np.finfo(float).eps)\n",
        "    height = log_spec.shape[0]\n",
        "    width = log_spec.shape[1]\n",
        "    X = range(width)\n",
        "    Y = range(height)\n",
        "    print(\"size spectrogram\",np.size(spectrogram))\n",
        "    print(\"Width\",width, \"Height\",height)\n",
        "    ax.pcolormesh(X, Y, log_spec)"
      ]
    },
    {
      "cell_type": "markdown",
      "metadata": {
        "id": "baa5c91e8603"
      },
      "source": [
        "Plot the example's waveform over time and the corresponding spectrogram (frequencies over time):"
      ]
    },
    {
      "cell_type": "code",
      "execution_count": null,
      "metadata": {
        "colab": {
          "base_uri": "https://localhost:8080/",
          "height": 568
        },
        "execution": {
          "iopub.execute_input": "2022-01-26T08:04:52.458644Z",
          "iopub.status.busy": "2022-01-26T08:04:52.457933Z",
          "iopub.status.idle": "2022-01-26T08:04:52.694674Z",
          "shell.execute_reply": "2022-01-26T08:04:52.695148Z"
        },
        "id": "d2_CikgY1tjv",
        "outputId": "526097f0-cc15-4914-b6f8-5157fc7a61a5",
        "scrolled": true
      },
      "outputs": [
        {
          "name": "stdout",
          "output_type": "stream",
          "text": [
            "before squeeze (16, 5, 1)\n",
            "after squeeze (16, 5)\n",
            "size spectrogram 80\n",
            "Width 16 Height 5\n"
          ]
        },
        {
          "data": {
            "image/png": "[encoded data removed]",
            "text/plain": [
              "<Figure size 864x576 with 2 Axes>"
            ]
          },
          "metadata": {
            "needs_background": "light"
          },
          "output_type": "display_data"
        }
      ],
      "source": [
        "fig, axes = plt.subplots(2, figsize=(12, 8))\n",
        "timescale = np.arange(waveform.shape[0])\n",
        "axes[0].plot(timescale, waveform.numpy())\n",
        "axes[0].set_title('Waveform')\n",
        "plot_spectrogram(mfcc_arm,axes[1])\n",
        "axes[1].set_title(\"MFCC\")\n",
        "plt.show()"
      ]
    },
    {
      "cell_type": "markdown",
      "metadata": {
        "id": "GyYXjW07jCHA"
      },
      "source": [
        "## Training DS with Spectrograms and Labels"
      ]
    },
    {
      "cell_type": "code",
      "execution_count": null,
      "metadata": {
        "id": "_8nI63pqDD6t"
      },
      "outputs": [],
      "source": [
        "def get_mfcc_label_id(audio,label):\n",
        "    mfcc=get_cmsis_mfcc_ds(audio)\n",
        "    label_id=tf.argmax(label==commands)\n",
        "    return mfcc, label_id"
      ]
    },
    {
      "cell_type": "code",
      "execution_count": null,
      "metadata": {
        "id": "A0iATgdoDD6u"
      },
      "outputs": [],
      "source": [
        "spectrogram_ds = waveform_ds.map(map_func=get_mfcc_label_id)"
      ]
    },
    {
      "cell_type": "code",
      "execution_count": null,
      "metadata": {
        "id": "71LBhjwMDD6u"
      },
      "outputs": [],
      "source": [
        "augmented_spec_ds = waveform_ds.map(map_func=tf_augment_wave_to_mfcc)"
      ]
    },
    {
      "cell_type": "markdown",
      "metadata": {
        "id": "L_2dZd1tDD6u"
      },
      "source": [
        "## Prepare the training DataSet with Actual+Augmented data and Test,Validation DataSets"
      ]
    },
    {
      "cell_type": "code",
      "execution_count": null,
      "metadata": {
        "id": "zkn9aFJcDD6v"
      },
      "outputs": [],
      "source": [
        "def preprocess_dataset(files):\n",
        "    files_ds = tf.data.Dataset.from_tensor_slices(files)\n",
        "    output_ds=files_ds.map(map_func=get_waveform_and_label)\n",
        "    output_ds=output_ds.map(map_func=get_mfcc_label_id)\n",
        "    return output_ds"
      ]
    },
    {
      "cell_type": "code",
      "execution_count": null,
      "metadata": {
        "colab": {
          "base_uri": "https://localhost:8080/"
        },
        "execution": {
          "iopub.execute_input": "2022-01-26T08:04:53.623176Z",
          "iopub.status.busy": "2022-01-26T08:04:53.622513Z",
          "iopub.status.idle": "2022-01-26T08:04:53.863062Z",
          "shell.execute_reply": "2022-01-26T08:04:53.862454Z"
        },
        "id": "HNv4xwYkB2P6",
        "outputId": "9c6bfe62-ef83-4d34-98a6-36d6b13f324d"
      },
      "outputs": [
        {
          "name": "stdout",
          "output_type": "stream",
          "text": [
            "file path Tensor(\"args_0:0\", shape=(), dtype=string)\n",
            "(None, None)\n",
            "() (None,)\n",
            "file path Tensor(\"args_0:0\", shape=(), dtype=string)\n",
            "(None, None)\n",
            "() (None,)\n"
          ]
        }
      ],
      "source": [
        "train_ds = spectrogram_ds.concatenate(augmented_spec_ds)\n",
        "val_ds = preprocess_dataset(val_files)\n",
        "test_ds = preprocess_dataset(test_files)"
      ]
    },
    {
      "cell_type": "code",
      "execution_count": null,
      "metadata": {
        "colab": {
          "base_uri": "https://localhost:8080/"
        },
        "id": "ovVIEAD9DD6v",
        "outputId": "70b31d67-4bd5-4ece-fb48-fe882300f2dd"
      },
      "outputs": [
        {
          "name": "stdout",
          "output_type": "stream",
          "text": [
            "15346\n"
          ]
        }
      ],
      "source": [
        "# Check for number of elements in the training dataset\n",
        "num_of_samples=train_ds.cardinality().numpy()\n",
        "print(num_of_samples)"
      ]
    },
    {
      "cell_type": "code",
      "execution_count": null,
      "metadata": {
        "id": "e4mew26BDD6w"
      },
      "outputs": [],
      "source": [
        "train_shuffle_ds=train_ds.shuffle(num_of_samples,reshuffle_each_iteration=True)\n",
        "batch_size = 64\n",
        "train_ds = train_shuffle_ds.batch(batch_size)\n",
        "val_ds = val_ds.batch(batch_size)"
      ]
    },
    {
      "cell_type": "code",
      "execution_count": null,
      "metadata": {
        "execution": {
          "iopub.execute_input": "2022-01-26T08:04:53.877485Z",
          "iopub.status.busy": "2022-01-26T08:04:53.876594Z",
          "iopub.status.idle": "2022-01-26T08:04:53.879897Z",
          "shell.execute_reply": "2022-01-26T08:04:53.880309Z"
        },
        "id": "fdZ6M-F5_QzY"
      },
      "outputs": [],
      "source": [
        "train_ds = train_ds.cache()\n",
        "val_ds = val_ds.cache()"
      ]
    },
    {
      "cell_type": "markdown",
      "metadata": {
        "id": "uJhJdl7-DD6w"
      },
      "source": [
        "## Neural Network Model"
      ]
    },
    {
      "cell_type": "code",
      "execution_count": null,
      "metadata": {
        "id": "7wMQYsufDD6x"
      },
      "outputs": [],
      "source": [
        "for spectrogram, _ in spectrogram_ds.take(1):\n",
        "    input_shape = spectrogram.shape\n",
        "\n",
        "num_labels = len(commands)\n",
        "\n",
        "model = models.Sequential([\n",
        "    \n",
        "    layers.Input(shape=input_shape),\n",
        "    \n",
        "    layers.Conv2D(32,(8,8),strides=(1,1),padding='same', activation='relu'),\n",
        "    layers.BatchNormalization(),\n",
        "    layers.AveragePooling2D(),\n",
        " \n",
        "    layers.Conv2D(16,3,strides=(1,1),padding='same',activation='relu'),\n",
        "    layers.BatchNormalization(),\n",
        "    layers.AveragePooling2D(),\n",
        "\n",
        "    layers.Flatten(),\n",
        "    layers.Dropout(0.25),\n",
        "    layers.Dense(num_labels, kernel_regularizer='l2', activation='softmax'),\n",
        "])"
      ]
    },
    {
      "cell_type": "code",
      "execution_count": null,
      "metadata": {
        "colab": {
          "base_uri": "https://localhost:8080/"
        },
        "id": "LyaNBoFqDD6x",
        "outputId": "877a88ba-ce2c-41cc-9574-1487898e9f00"
      },
      "outputs": [
        {
          "name": "stdout",
          "output_type": "stream",
          "text": [
            "Model: \"sequential\"\n",
            "_________________________________________________________________\n",
            " Layer (type)                Output Shape              Param #   \n",
            "=================================================================\n",
            " conv2d (Conv2D)             (None, 16, 5, 32)         2080      \n",
            "                                                                 \n",
            " batch_normalization (BatchN  (None, 16, 5, 32)        128       \n",
            " ormalization)                                                   \n",
            "                                                                 \n",
            " average_pooling2d (AverageP  (None, 8, 2, 32)         0         \n",
            " ooling2D)                                                       \n",
            "                                                                 \n",
            " conv2d_1 (Conv2D)           (None, 8, 2, 16)          4624      \n",
            "                                                                 \n",
            " batch_normalization_1 (Batc  (None, 8, 2, 16)         64        \n",
            " hNormalization)                                                 \n",
            "                                                                 \n",
            " average_pooling2d_1 (Averag  (None, 4, 1, 16)         0         \n",
            " ePooling2D)                                                     \n",
            "                                                                 \n",
            " flatten (Flatten)           (None, 64)                0         \n",
            "                                                                 \n",
            " dropout (Dropout)           (None, 64)                0         \n",
            "                                                                 \n",
            " dense (Dense)               (None, 3)                 195       \n",
            "                                                                 \n",
            "=================================================================\n",
            "Total params: 7,091\n",
            "Trainable params: 6,995\n",
            "Non-trainable params: 96\n",
            "_________________________________________________________________\n"
          ]
        }
      ],
      "source": [
        "model.summary()"
      ]
    },
    {
      "cell_type": "markdown",
      "metadata": {
        "id": "jnkPiS__DD6x"
      },
      "source": [
        "## Compile and Fit the Model"
      ]
    },
    {
      "cell_type": "code",
      "execution_count": null,
      "metadata": {
        "execution": {
          "iopub.execute_input": "2022-01-26T08:05:03.272380Z",
          "iopub.status.busy": "2022-01-26T08:05:03.271757Z",
          "iopub.status.idle": "2022-01-26T08:05:03.281300Z",
          "shell.execute_reply": "2022-01-26T08:05:03.281634Z"
        },
        "id": "wFjj7-EmsTD-"
      },
      "outputs": [],
      "source": [
        "model.compile(\n",
        "    optimizer=tf.keras.optimizers.Adam(),\n",
        "    loss=tf.keras.losses.SparseCategoricalCrossentropy(from_logits=False),\n",
        "    metrics=['accuracy'],\n",
        ")"
      ]
    },
    {
      "cell_type": "code",
      "execution_count": null,
      "metadata": {
        "colab": {
          "base_uri": "https://localhost:8080/"
        },
        "execution": {
          "iopub.execute_input": "2022-01-26T08:05:03.286913Z",
          "iopub.status.busy": "2022-01-26T08:05:03.286335Z",
          "iopub.status.idle": "2022-01-26T08:05:14.066442Z",
          "shell.execute_reply": "2022-01-26T08:05:14.066885Z"
        },
        "id": "ttioPJVMcGtq",
        "outputId": "739decf1-a848-4c0d-881b-738dee1094b5",
        "scrolled": false
      },
      "outputs": [
        {
          "name": "stdout",
          "output_type": "stream",
          "text": [
            "Epoch 1/100\n",
            "240/240 [==============================] - 249s 38ms/step - loss: 0.7001 - accuracy: 0.7116 - val_loss: 0.9462 - val_accuracy: 0.6309\n",
            "Epoch 2/100\n",
            "240/240 [==============================] - 4s 17ms/step - loss: 0.4693 - accuracy: 0.8248 - val_loss: 0.3989 - val_accuracy: 0.9103\n",
            "Epoch 3/100\n",
            "240/240 [==============================] - 4s 17ms/step - loss: 0.4020 - accuracy: 0.8543 - val_loss: 0.2901 - val_accuracy: 0.9270\n",
            "Epoch 4/100\n",
            "240/240 [==============================] - 4s 17ms/step - loss: 0.3649 - accuracy: 0.8695 - val_loss: 0.2305 - val_accuracy: 0.9197\n",
            "Epoch 5/100\n",
            "240/240 [==============================] - 6s 26ms/step - loss: 0.3335 - accuracy: 0.8796 - val_loss: 0.2016 - val_accuracy: 0.9426\n",
            "Epoch 6/100\n",
            "240/240 [==============================] - 4s 17ms/step - loss: 0.3167 - accuracy: 0.8880 - val_loss: 0.2013 - val_accuracy: 0.9364\n",
            "Epoch 7/100\n",
            "240/240 [==============================] - 4s 16ms/step - loss: 0.3069 - accuracy: 0.8869 - val_loss: 0.2014 - val_accuracy: 0.9322\n",
            "Epoch 8/100\n",
            "240/240 [==============================] - 4s 17ms/step - loss: 0.2934 - accuracy: 0.8953 - val_loss: 0.1790 - val_accuracy: 0.9406\n",
            "Epoch 9/100\n",
            "240/240 [==============================] - 4s 17ms/step - loss: 0.2846 - accuracy: 0.8974 - val_loss: 0.1855 - val_accuracy: 0.9395\n",
            "Epoch 10/100\n",
            "240/240 [==============================] - 4s 16ms/step - loss: 0.2808 - accuracy: 0.8985 - val_loss: 0.1710 - val_accuracy: 0.9374\n",
            "Epoch 11/100\n",
            "240/240 [==============================] - 4s 16ms/step - loss: 0.2699 - accuracy: 0.9039 - val_loss: 0.1807 - val_accuracy: 0.9333\n",
            "Epoch 12/100\n",
            "240/240 [==============================] - 4s 17ms/step - loss: 0.2681 - accuracy: 0.9036 - val_loss: 0.1746 - val_accuracy: 0.9364\n",
            "Epoch 13/100\n",
            "240/240 [==============================] - 4s 16ms/step - loss: 0.2595 - accuracy: 0.9054 - val_loss: 0.1710 - val_accuracy: 0.9437\n",
            "Epoch 14/100\n",
            "240/240 [==============================] - 4s 17ms/step - loss: 0.2552 - accuracy: 0.9069 - val_loss: 0.1737 - val_accuracy: 0.9364\n",
            "Epoch 15/100\n",
            "240/240 [==============================] - 4s 18ms/step - loss: 0.2545 - accuracy: 0.9072 - val_loss: 0.1624 - val_accuracy: 0.9406\n",
            "Epoch 16/100\n",
            "240/240 [==============================] - 5s 19ms/step - loss: 0.2537 - accuracy: 0.9105 - val_loss: 0.1601 - val_accuracy: 0.9406\n",
            "Epoch 17/100\n",
            "240/240 [==============================] - 4s 19ms/step - loss: 0.2403 - accuracy: 0.9111 - val_loss: 0.1550 - val_accuracy: 0.9489\n",
            "Epoch 18/100\n",
            "240/240 [==============================] - 4s 18ms/step - loss: 0.2377 - accuracy: 0.9135 - val_loss: 0.1695 - val_accuracy: 0.9447\n",
            "Epoch 19/100\n",
            "240/240 [==============================] - 4s 17ms/step - loss: 0.2354 - accuracy: 0.9138 - val_loss: 0.1738 - val_accuracy: 0.9353\n",
            "Epoch 20/100\n",
            "240/240 [==============================] - 4s 17ms/step - loss: 0.2303 - accuracy: 0.9172 - val_loss: 0.1562 - val_accuracy: 0.9458\n",
            "Epoch 21/100\n",
            "240/240 [==============================] - 4s 18ms/step - loss: 0.2291 - accuracy: 0.9167 - val_loss: 0.1642 - val_accuracy: 0.9353\n",
            "Epoch 22/100\n",
            "240/240 [==============================] - 4s 17ms/step - loss: 0.2218 - accuracy: 0.9225 - val_loss: 0.1435 - val_accuracy: 0.9437\n",
            "Epoch 23/100\n",
            "240/240 [==============================] - 4s 17ms/step - loss: 0.2210 - accuracy: 0.9191 - val_loss: 0.1464 - val_accuracy: 0.9416\n",
            "Epoch 24/100\n",
            "240/240 [==============================] - 4s 17ms/step - loss: 0.2172 - accuracy: 0.9222 - val_loss: 0.1619 - val_accuracy: 0.9426\n",
            "Epoch 25/100\n",
            "240/240 [==============================] - 4s 17ms/step - loss: 0.2192 - accuracy: 0.9205 - val_loss: 0.1528 - val_accuracy: 0.9458\n",
            "Epoch 26/100\n",
            "240/240 [==============================] - 4s 17ms/step - loss: 0.2133 - accuracy: 0.9221 - val_loss: 0.1492 - val_accuracy: 0.9468\n",
            "Epoch 26: early stopping\n"
          ]
        }
      ],
      "source": [
        "EPOCHS = 100\n",
        "history = model.fit(\n",
        "    train_ds,\n",
        "    validation_data=val_ds,\n",
        "    epochs=EPOCHS,\n",
        "    callbacks=tf.keras.callbacks.EarlyStopping(monitor='accuracy',mode='max',verbose=1, patience=4),\n",
        ")"
      ]
    },
    {
      "cell_type": "markdown",
      "metadata": {
        "id": "gjpCDeQ4mUfS"
      },
      "source": [
        "## Plot the Loss"
      ]
    },
    {
      "cell_type": "code",
      "execution_count": null,
      "metadata": {
        "colab": {
          "base_uri": "https://localhost:8080/",
          "height": 265
        },
        "execution": {
          "iopub.execute_input": "2022-01-26T08:05:14.109776Z",
          "iopub.status.busy": "2022-01-26T08:05:14.088784Z",
          "iopub.status.idle": "2022-01-26T08:05:14.202506Z",
          "shell.execute_reply": "2022-01-26T08:05:14.203379Z"
        },
        "id": "nzhipg3Gu2AY",
        "outputId": "2f3096cf-d943-423f-e5a4-7102148109ed",
        "scrolled": true
      },
      "outputs": [
        {
          "data": {
            "image/png": "[encoded data removed]",
            "text/plain": [
              "<Figure size 432x288 with 1 Axes>"
            ]
          },
          "metadata": {
            "needs_background": "light"
          },
          "output_type": "display_data"
        }
      ],
      "source": [
        "metrics = history.history\n",
        "plt.plot(history.epoch, metrics['loss'], metrics['val_loss'])\n",
        "plt.legend(['loss', 'val_loss'])\n",
        "plt.show()"
      ]
    },
    {
      "cell_type": "markdown",
      "metadata": {
        "id": "5ZTt3kO3mfm4"
      },
      "source": [
        "## Evaluate the model performance\n",
        "\n",
        "Run the model on the test set and check the model's performance:"
      ]
    },
    {
      "cell_type": "code",
      "execution_count": null,
      "metadata": {
        "execution": {
          "iopub.execute_input": "2022-01-26T08:05:14.211012Z",
          "iopub.status.busy": "2022-01-26T08:05:14.209773Z",
          "iopub.status.idle": "2022-01-26T08:05:14.830928Z",
          "shell.execute_reply": "2022-01-26T08:05:14.830111Z"
        },
        "id": "biU2MwzyAo8o"
      },
      "outputs": [],
      "source": [
        "test_audio = []\n",
        "test_labels = []\n",
        "\n",
        "for audio, label in test_ds:\n",
        "    test_audio.append(audio.numpy())\n",
        "    test_labels.append(label.numpy())\n",
        "\n",
        "test_audio = np.array(test_audio)\n",
        "test_labels = np.array(test_labels)"
      ]
    },
    {
      "cell_type": "code",
      "execution_count": null,
      "metadata": {
        "colab": {
          "base_uri": "https://localhost:8080/"
        },
        "execution": {
          "iopub.execute_input": "2022-01-26T08:05:14.893616Z",
          "iopub.status.busy": "2022-01-26T08:05:14.892785Z",
          "iopub.status.idle": "2022-01-26T08:05:15.121509Z",
          "shell.execute_reply": "2022-01-26T08:05:15.120984Z"
        },
        "id": "ktUanr9mRZky",
        "outputId": "29748637-6884-4279-bbbe-2b3a4858c076",
        "scrolled": true
      },
      "outputs": [
        {
          "name": "stdout",
          "output_type": "stream",
          "text": [
            "Test set accuracy: 95%\n"
          ]
        }
      ],
      "source": [
        "y_pred = np.argmax(model.predict(test_audio), axis=1)\n",
        "y_true = test_labels\n",
        "\n",
        "test_acc = sum(y_pred == y_true) / len(y_true)\n",
        "print(f'Test set accuracy: {test_acc:.0%}')"
      ]
    },
    {
      "cell_type": "code",
      "execution_count": null,
      "metadata": {
        "colab": {
          "base_uri": "https://localhost:8080/"
        },
        "id": "HN6dbJr1DD60",
        "outputId": "715bd2b1-a3f3-4a5f-a691-cffed57edae1"
      },
      "outputs": [
        {
          "name": "stdout",
          "output_type": "stream",
          "text": [
            "30/30 [==============================] - 0s 6ms/step - loss: 0.1356 - accuracy: 0.9489\n"
          ]
        },
        {
          "data": {
            "text/plain": [
              "[0.13559721410274506, 0.9489051103591919]"
            ]
          },
          "execution_count": 42,
          "metadata": {},
          "output_type": "execute_result"
        }
      ],
      "source": [
        "model.evaluate(test_audio, test_labels)"
      ]
    },
    {
      "cell_type": "markdown",
      "metadata": {
        "id": "en9Znt1NOabH"
      },
      "source": [
        "## Display the confusion matrix\n"
      ]
    },
    {
      "cell_type": "code",
      "execution_count": null,
      "metadata": {
        "colab": {
          "base_uri": "https://localhost:8080/",
          "height": 1000
        },
        "execution": {
          "iopub.execute_input": "2022-01-26T08:05:15.127704Z",
          "iopub.status.busy": "2022-01-26T08:05:15.127044Z",
          "iopub.status.idle": "2022-01-26T08:05:15.493895Z",
          "shell.execute_reply": "2022-01-26T08:05:15.493278Z"
        },
        "id": "LvoSAOiXU3lL",
        "outputId": "2dec9c04-c90e-47ae-e332-3ca90023dbf7",
        "scrolled": true
      },
      "outputs": [
        {
          "data": {
            "image/png": "[encoded data removed]",
            "text/plain": [
              "<Figure size 1440x1440 with 2 Axes>"
            ]
          },
          "metadata": {
            "needs_background": "light"
          },
          "output_type": "display_data"
        }
      ],
      "source": [
        "confusion_mtx = tf.math.confusion_matrix(y_true, y_pred)\n",
        "plt.figure(figsize=(20,20))\n",
        "sns.heatmap(confusion_mtx,\n",
        "            xticklabels=commands,\n",
        "            yticklabels=commands,\n",
        "            annot=True, fmt='g')\n",
        "plt.xlabel('Prediction')\n",
        "plt.ylabel('Label')\n",
        "plt.show()"
      ]
    },
    {
      "cell_type": "markdown",
      "metadata": {
        "id": "Lr9OWzEdDD61"
      },
      "source": [
        "## Save the Model"
      ]
    },
    {
      "cell_type": "code",
      "execution_count": null,
      "metadata": {
        "id": "wxDsjHNzDD61"
      },
      "outputs": [],
      "source": [
        "# Save the model as h5 file.\n",
        "model.save(FULL_WORKING_LOC + \"/psoc6_voice_control_bootcamp_model_cnn.h5\")"
      ]
    },
    {
      "cell_type": "code",
      "execution_count": null,
      "metadata": {
        "id": "aZ7fsBgrzMtX"
      },
      "outputs": [],
      "source": [
        "# all imports\n",
        "from IPython.display import display, Javascript\n",
        "from google.colab import output\n",
        "from base64 import b64decode\n",
        "\n",
        "REC = \"\"\"\n",
        "const sleep  = time => new Promise(resolve => setTimeout(resolve, time))\n",
        "const b2text = blob => new Promise(resolve => {\n",
        "  const reader = new FileReader()\n",
        "  reader.onloadend = e => resolve(e.srcElement.result)\n",
        "  reader.readAsDataURL(blob)\n",
        "})\n",
        "var record = time => new Promise(async resolve => {\n",
        "  stream = await navigator.mediaDevices.getUserMedia({ audio: true })\n",
        "  recorder = new MediaRecorder(stream)\n",
        "  chunks = []\n",
        "  recorder.ondataavailable = e => chunks.push(e.data)\n",
        "  recorder.start()\n",
        "  await sleep(time)\n",
        "  recorder.onstop = async ()=>{\n",
        "    blob = new Blob(chunks)\n",
        "    text = await b2text(blob)\n",
        "    resolve(text)\n",
        "  }\n",
        "  recorder.stop()\n",
        "})\n",
        "\"\"\"\n",
        "\n",
        "def record(sec=3):\n",
        "  display(Javascript(REC))\n",
        "  print('Speak now!')\n",
        "  s = output.eval_js('record(%d)' % (sec*1000))\n",
        "  print('Audio captured')\n",
        "  b = b64decode(s.split(',')[1])\n",
        "  with open(\"/content/drive/MyDrive/iHack_UR/voice.ogg\",'wb') as f:\n",
        "    f.write(b)\n",
        "  return \"/content/drive/MyDrive/iHack_UR/voice.ogg\""
      ]
    },
    {
      "cell_type": "code",
      "execution_count": null,
      "metadata": {
        "colab": {
          "base_uri": "https://localhost:8080/",
          "height": 552
        },
        "id": "1veodrcAy2RT",
        "outputId": "a46ee449-ca9e-4fb6-d82f-dbefbc81b1ad"
      },
      "outputs": [
        {
          "data": {
            "application/javascript": "\nconst sleep  = time => new Promise(resolve => setTimeout(resolve, time))\nconst b2text = blob => new Promise(resolve => {\n  const reader = new FileReader()\n  reader.onloadend = e => resolve(e.srcElement.result)\n  reader.readAsDataURL(blob)\n})\nvar record = time => new Promise(async resolve => {\n  stream = await navigator.mediaDevices.getUserMedia({ audio: true })\n  recorder = new MediaRecorder(stream)\n  chunks = []\n  recorder.ondataavailable = e => chunks.push(e.data)\n  recorder.start()\n  await sleep(time)\n  recorder.onstop = async ()=>{\n    blob = new Blob(chunks)\n    text = await b2text(blob)\n    resolve(text)\n  }\n  recorder.stop()\n})\n",
            "text/plain": [
              "<IPython.core.display.Javascript object>"
            ]
          },
          "metadata": {},
          "output_type": "display_data"
        },
        {
          "name": "stdout",
          "output_type": "stream",
          "text": [
            "Speak now!\n",
            "Audio captured\n",
            "(15360, 1)\n",
            "Predicted off\n"
          ]
        },
        {
          "data": {
            "image/png": "[encoded data removed]",
            "text/plain": [
              "<Figure size 720x576 with 1 Axes>"
            ]
          },
          "metadata": {
            "needs_background": "light"
          },
          "output_type": "display_data"
        }
      ],
      "source": [
        "record(1)\n",
        "!ffmpeg -loglevel panic -y -i /content/drive/MyDrive/iHack_UR/voice.ogg /content/drive/MyDrive/iHack_UR/voice.wav\n",
        "!ffmpeg -loglevel panic -y -i /content/drive/MyDrive/iHack_UR/voice.wav -ar 16000 /content/drive/MyDrive/iHack_UR/voice_16k.wav\n",
        "x = tf.io.read_file(\"/content/drive/MyDrive/iHack_UR/voice_16k.wav\")\n",
        "waveform = decode_audio(x)\n",
        "sample_ds=get_cmsis_mfcc_full(waveform)\n",
        "sample_ds = sample_ds[tf.newaxis,...]\n",
        "prediction = model(sample_ds)\n",
        "plt.figure(figsize=(10,8))\n",
        "print(\"Predicted\",commands[tf.math.argmax(prediction[0])])\n",
        "plt.bar(commands, prediction[0])\n",
        "plt.show()"
      ]
    }
  ],
  "metadata": {
    "colab": {
      "collapsed_sections": [],
      "provenance": []
    },
    "gpuClass": "standard",
    "kernelspec": {
      "display_name": "Python 3.9.13 ('tensorflow')",
      "language": "python",
      "name": "python3"
    },
    "language_info": {
      "codemirror_mode": {
        "name": "ipython",
        "version": 3
      },
      "file_extension": ".py",
      "mimetype": "text/x-python",
      "name": "python",
      "nbconvert_exporter": "python",
      "pygments_lexer": "ipython3",
      "version": "3.9.13"
    },
    "vscode": {
      "interpreter": {
        "hash": "394790b30aea288f0ec741f95f8af4fb06399bd07c88814afead1534ec90e49c"
      }
    }
  },
  "nbformat": 4,
  "nbformat_minor": 0
}
